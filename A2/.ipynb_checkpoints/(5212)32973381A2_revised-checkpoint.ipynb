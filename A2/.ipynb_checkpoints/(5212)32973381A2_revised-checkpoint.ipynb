{
 "cells": [
  {
   "cell_type": "code",
   "execution_count": 1,
   "metadata": {
    "colab": {
     "base_uri": "https://localhost:8080/"
    },
    "id": "KxH6VTAor5hI",
    "outputId": "9deed082-6e80-422e-a10a-dbc8c1253e6b"
   },
   "outputs": [],
   "source": [
    "# from google.colab import drive\n",
    "# drive.mount('/content/drive')"
   ]
  },
  {
   "cell_type": "markdown",
   "metadata": {
    "id": "xH2pR-0-Dubs"
   },
   "source": [
    "________________________________________________________________________________"
   ]
  },
  {
   "cell_type": "markdown",
   "metadata": {
    "id": "Jw6dTWZwr9sb"
   },
   "source": [
    "### Import Libraries "
   ]
  },
  {
   "cell_type": "code",
   "execution_count": 7,
   "metadata": {
    "colab": {
     "base_uri": "https://localhost:8080/"
    },
    "id": "Dk_lBXHk0rP7",
    "outputId": "998c7c6a-69c0-4e88-bb0a-06a0b2660822"
   },
   "outputs": [
    {
     "name": "stdout",
     "output_type": "stream",
     "text": [
      "Requirement already satisfied: surprise in c:\\users\\sunny\\appdata\\local\\programs\\python\\python310\\lib\\site-packages (0.1)\n",
      "Requirement already satisfied: scikit-surprise in c:\\users\\sunny\\appdata\\local\\programs\\python\\python310\\lib\\site-packages (from surprise) (1.1.3)\n",
      "Requirement already satisfied: numpy>=1.17.3 in c:\\users\\sunny\\appdata\\local\\programs\\python\\python310\\lib\\site-packages (from scikit-surprise->surprise) (1.22.3)\n",
      "Requirement already satisfied: joblib>=1.0.0 in c:\\users\\sunny\\appdata\\local\\programs\\python\\python310\\lib\\site-packages (from scikit-surprise->surprise) (1.2.0)\n",
      "Requirement already satisfied: scipy>=1.3.2 in c:\\users\\sunny\\appdata\\local\\programs\\python\\python310\\lib\\site-packages (from scikit-surprise->surprise) (1.10.1)\n",
      "\n",
      "[notice] A new release of pip available: 22.1.2 -> 23.1.2\n",
      "[notice] To update, run: python.exe -m pip install --upgrade pip\n",
      "Requirement already satisfied: implicit in c:\\users\\sunny\\appdata\\local\\programs\\python\\python310\\lib\\site-packages (0.6.2)\n",
      "Requirement already satisfied: tqdm>=4.27 in c:\\users\\sunny\\appdata\\local\\programs\\python\\python310\\lib\\site-packages (from implicit) (4.63.1)\n",
      "Requirement already satisfied: numpy in c:\\users\\sunny\\appdata\\local\\programs\\python\\python310\\lib\\site-packages (from implicit) (1.22.3)\n",
      "Requirement already satisfied: scipy>=0.16 in c:\\users\\sunny\\appdata\\local\\programs\\python\\python310\\lib\\site-packages (from implicit) (1.10.1)\n",
      "Requirement already satisfied: colorama in c:\\users\\sunny\\appdata\\local\\programs\\python\\python310\\lib\\site-packages (from tqdm>=4.27->implicit) (0.4.4)\n",
      "\n",
      "[notice] A new release of pip available: 22.1.2 -> 23.1.2\n",
      "[notice] To update, run: python.exe -m pip install --upgrade pip\n"
     ]
    }
   ],
   "source": [
    "!pip install surprise"
   ]
  },
  {
   "cell_type": "code",
   "execution_count": 12,
   "metadata": {
    "id": "0rY-HGPGuqVz"
   },
   "outputs": [],
   "source": [
    "import os\n",
    "import pandas as pd\n",
    "import numpy as np\n",
    "import random\n",
    "import torch\n",
    "import torchtext\n",
    "import scipy.sparse as sparse\n",
    "from multiprocessing import Pool, cpu_count\n",
    "from sklearn.preprocessing import MinMaxScaler\n",
    "from sklearn import metrics\n",
    "from gensim.utils import simple_preprocess\n",
    "from tqdm import tqdm\n",
    "import matplotlib.pyplot as plt\n",
    "import seaborn as sns"
   ]
  },
  {
   "cell_type": "code",
   "execution_count": 13,
   "metadata": {
    "colab": {
     "base_uri": "https://localhost:8080/"
    },
    "id": "N1X51shsr9y-",
    "outputId": "1cd595ca-bf7e-4998-e4ee-2dfae2d6f73f"
   },
   "outputs": [
    {
     "data": {
      "text/plain": [
       "<torch._C.Generator at 0x259f6ea3bd0>"
      ]
     },
     "execution_count": 13,
     "metadata": {},
     "output_type": "execute_result"
    }
   ],
   "source": [
    "from surprise import (\n",
    "    Reader,\n",
    "    Dataset,\n",
    "    accuracy,\n",
    "    NormalPredictor,\n",
    "    KNNBasic,\n",
    "    KNNWithMeans,\n",
    "    KNNWithZScore,\n",
    "    KNNBaseline,\n",
    "    SVD,\n",
    "    BaselineOnly,\n",
    "    SVDpp,\n",
    "    NMF,\n",
    "    SlopeOne,\n",
    "    CoClustering\n",
    ")\n",
    "\n",
    "from surprise.model_selection import cross_validate\n",
    "from surprise.accuracy import rmse\n",
    "from surprise.model_selection import train_test_split\n",
    "from surprise.model_selection import GridSearchCV\n",
    "\n",
    "SEED = 1\n",
    "random.seed(SEED)\n",
    "np.random.seed(SEED)\n",
    "torch.manual_seed(SEED)"
   ]
  },
  {
   "cell_type": "code",
   "execution_count": 11,
   "metadata": {
    "colab": {
     "base_uri": "https://localhost:8080/"
    },
    "id": "BzJ0IiIMsCEl",
    "outputId": "e2a5cc46-0e40-4622-b76a-d05acc150f42"
   },
   "outputs": [
    {
     "data": {
      "text/plain": [
       "device(type='cuda')"
      ]
     },
     "execution_count": 11,
     "metadata": {},
     "output_type": "execute_result"
    }
   ],
   "source": [
    "device = torch.device('cuda' if torch.cuda.is_available() else 'cpu')\n",
    "device"
   ]
  },
  {
   "cell_type": "markdown",
   "metadata": {
    "id": "xH2pR-0-Dubs"
   },
   "source": [
    "________________________________________________________________________________"
   ]
  },
  {
   "cell_type": "markdown",
   "metadata": {
    "id": "6M1g-gqusI8v"
   },
   "source": [
    "### Load data "
   ]
  },
  {
   "cell_type": "code",
   "execution_count": 38,
   "metadata": {
    "id": "Ti-TDT2ksHPW"
   },
   "outputs": [],
   "source": [
    "# FolderPath = \"/content/drive/MyDrive/Colab Notebooks/FIT5212/A2/Data\"\n",
    "FolderPath = \"C:/Users/Sunny/Desktop/Master/Sem3/5212/A2/Data\"\n",
    "\n",
    "train_df = pd.read_csv(FolderPath + \"/train.csv\")\n",
    "test_df = pd.read_csv(FolderPath + \"/test.csv\")\n",
    "metadata_df = pd.read_csv(FolderPath + \"/books_metadata.csv\")"
   ]
  },
  {
   "cell_type": "code",
   "execution_count": 15,
   "metadata": {
    "colab": {
     "base_uri": "https://localhost:8080/"
    },
    "id": "-oK1iHSPsXl0",
    "outputId": "e279d084-dc49-469e-d81a-71d1bbe7ce9b"
   },
   "outputs": [
    {
     "name": "stdout",
     "output_type": "stream",
     "text": [
      "<class 'pandas.core.frame.DataFrame'>\n",
      "RangeIndex: 286136 entries, 0 to 286135\n",
      "Data columns (total 4 columns):\n",
      " #   Column     Non-Null Count   Dtype \n",
      "---  ------     --------------   ----- \n",
      " 0   user_id    286136 non-null  int64 \n",
      " 1   item_id    286136 non-null  int64 \n",
      " 2   rating     286136 non-null  int64 \n",
      " 3   book_name  286136 non-null  object\n",
      "dtypes: int64(3), object(1)\n",
      "memory usage: 8.7+ MB\n"
     ]
    }
   ],
   "source": [
    "train_df.info()"
   ]
  },
  {
   "cell_type": "code",
   "execution_count": 16,
   "metadata": {
    "colab": {
     "base_uri": "https://localhost:8080/"
    },
    "id": "WBq-cSgLsX4e",
    "outputId": "b711c872-b11d-41ef-ad11-843b5e7fd71c"
   },
   "outputs": [
    {
     "name": "stdout",
     "output_type": "stream",
     "text": [
      "<class 'pandas.core.frame.DataFrame'>\n",
      "RangeIndex: 1636235 entries, 0 to 1636234\n",
      "Data columns (total 9 columns):\n",
      " #   Column          Non-Null Count    Dtype  \n",
      "---  ------          --------------    -----  \n",
      " 0   Name            1636235 non-null  object \n",
      " 1   pagesNumber     718417 non-null   float64\n",
      " 2   Publisher       1619540 non-null  object \n",
      " 3   CountsOfReview  1636235 non-null  int64  \n",
      " 4   PublishYear     1636235 non-null  int64  \n",
      " 5   Language        206442 non-null   object \n",
      " 6   Authors         1636235 non-null  object \n",
      " 7   Rating          1636235 non-null  float64\n",
      " 8   item_id         44586 non-null    float64\n",
      "dtypes: float64(3), int64(2), object(4)\n",
      "memory usage: 112.4+ MB\n"
     ]
    }
   ],
   "source": [
    "metadata_df.info()"
   ]
  },
  {
   "cell_type": "markdown",
   "metadata": {
    "id": "xH2pR-0-Dubs"
   },
   "source": [
    "________________________________________________________________________________"
   ]
  },
  {
   "cell_type": "markdown",
   "metadata": {},
   "source": [
    "# Memory based Algorithm comparison"
   ]
  },
  {
   "cell_type": "code",
   "execution_count": 20,
   "metadata": {
    "colab": {
     "base_uri": "https://localhost:8080/",
     "height": 1000
    },
    "collapsed": true,
    "id": "I4Tn2o5nNSZE",
    "jupyter": {
     "outputs_hidden": true
    },
    "outputId": "b3bebb5e-d471-4209-c8f1-acde6fe70428"
   },
   "outputs": [
    {
     "name": "stderr",
     "output_type": "stream",
     "text": [
      "C:\\Users\\Sunny\\AppData\\Local\\Temp\\ipykernel_28236\\2636614995.py:12: FutureWarning: The series.append method is deprecated and will be removed from pandas in a future version. Use pandas.concat instead.\n",
      "  tmp = tmp.append(pd.Series([str(algorithm).split(' ')[0].split('.')[-1]], index=['Algorithm']))\n",
      "C:\\Users\\Sunny\\AppData\\Local\\Temp\\ipykernel_28236\\2636614995.py:12: FutureWarning: The series.append method is deprecated and will be removed from pandas in a future version. Use pandas.concat instead.\n",
      "  tmp = tmp.append(pd.Series([str(algorithm).split(' ')[0].split('.')[-1]], index=['Algorithm']))\n",
      "C:\\Users\\Sunny\\AppData\\Local\\Temp\\ipykernel_28236\\2636614995.py:12: FutureWarning: The series.append method is deprecated and will be removed from pandas in a future version. Use pandas.concat instead.\n",
      "  tmp = tmp.append(pd.Series([str(algorithm).split(' ')[0].split('.')[-1]], index=['Algorithm']))\n"
     ]
    },
    {
     "name": "stdout",
     "output_type": "stream",
     "text": [
      "Estimating biases using als...\n",
      "Computing the msd similarity matrix...\n",
      "Done computing similarity matrix.\n",
      "Estimating biases using als...\n",
      "Computing the msd similarity matrix...\n",
      "Done computing similarity matrix.\n",
      "Estimating biases using als...\n",
      "Computing the msd similarity matrix...\n",
      "Done computing similarity matrix.\n",
      "Estimating biases using als...\n",
      "Computing the msd similarity matrix...\n",
      "Done computing similarity matrix.\n",
      "Estimating biases using als...\n",
      "Computing the msd similarity matrix...\n",
      "Done computing similarity matrix.\n"
     ]
    },
    {
     "name": "stderr",
     "output_type": "stream",
     "text": [
      "C:\\Users\\Sunny\\AppData\\Local\\Temp\\ipykernel_28236\\2636614995.py:12: FutureWarning: The series.append method is deprecated and will be removed from pandas in a future version. Use pandas.concat instead.\n",
      "  tmp = tmp.append(pd.Series([str(algorithm).split(' ')[0].split('.')[-1]], index=['Algorithm']))\n"
     ]
    },
    {
     "name": "stdout",
     "output_type": "stream",
     "text": [
      "Computing the msd similarity matrix...\n",
      "Done computing similarity matrix.\n",
      "Computing the msd similarity matrix...\n",
      "Done computing similarity matrix.\n",
      "Computing the msd similarity matrix...\n",
      "Done computing similarity matrix.\n",
      "Computing the msd similarity matrix...\n",
      "Done computing similarity matrix.\n",
      "Computing the msd similarity matrix...\n",
      "Done computing similarity matrix.\n"
     ]
    },
    {
     "name": "stderr",
     "output_type": "stream",
     "text": [
      "C:\\Users\\Sunny\\AppData\\Local\\Temp\\ipykernel_28236\\2636614995.py:12: FutureWarning: The series.append method is deprecated and will be removed from pandas in a future version. Use pandas.concat instead.\n",
      "  tmp = tmp.append(pd.Series([str(algorithm).split(' ')[0].split('.')[-1]], index=['Algorithm']))\n"
     ]
    },
    {
     "name": "stdout",
     "output_type": "stream",
     "text": [
      "Computing the msd similarity matrix...\n",
      "Done computing similarity matrix.\n",
      "Computing the msd similarity matrix...\n",
      "Done computing similarity matrix.\n",
      "Computing the msd similarity matrix...\n",
      "Done computing similarity matrix.\n",
      "Computing the msd similarity matrix...\n",
      "Done computing similarity matrix.\n",
      "Computing the msd similarity matrix...\n",
      "Done computing similarity matrix.\n"
     ]
    },
    {
     "name": "stderr",
     "output_type": "stream",
     "text": [
      "C:\\Users\\Sunny\\AppData\\Local\\Temp\\ipykernel_28236\\2636614995.py:12: FutureWarning: The series.append method is deprecated and will be removed from pandas in a future version. Use pandas.concat instead.\n",
      "  tmp = tmp.append(pd.Series([str(algorithm).split(' ')[0].split('.')[-1]], index=['Algorithm']))\n"
     ]
    },
    {
     "name": "stdout",
     "output_type": "stream",
     "text": [
      "Computing the msd similarity matrix...\n",
      "Done computing similarity matrix.\n",
      "Computing the msd similarity matrix...\n",
      "Done computing similarity matrix.\n",
      "Computing the msd similarity matrix...\n",
      "Done computing similarity matrix.\n",
      "Computing the msd similarity matrix...\n",
      "Done computing similarity matrix.\n",
      "Computing the msd similarity matrix...\n",
      "Done computing similarity matrix.\n"
     ]
    },
    {
     "name": "stderr",
     "output_type": "stream",
     "text": [
      "C:\\Users\\Sunny\\AppData\\Local\\Temp\\ipykernel_28236\\2636614995.py:12: FutureWarning: The series.append method is deprecated and will be removed from pandas in a future version. Use pandas.concat instead.\n",
      "  tmp = tmp.append(pd.Series([str(algorithm).split(' ')[0].split('.')[-1]], index=['Algorithm']))\n"
     ]
    },
    {
     "name": "stdout",
     "output_type": "stream",
     "text": [
      "Estimating biases using als...\n",
      "Estimating biases using als...\n",
      "Estimating biases using als...\n",
      "Estimating biases using als...\n",
      "Estimating biases using als...\n"
     ]
    },
    {
     "name": "stderr",
     "output_type": "stream",
     "text": [
      "C:\\Users\\Sunny\\AppData\\Local\\Temp\\ipykernel_28236\\2636614995.py:12: FutureWarning: The series.append method is deprecated and will be removed from pandas in a future version. Use pandas.concat instead.\n",
      "  tmp = tmp.append(pd.Series([str(algorithm).split(' ')[0].split('.')[-1]], index=['Algorithm']))\n"
     ]
    }
   ],
   "source": [
    "reader = Reader()\n",
    "data = Dataset.load_from_df(train_df[['user_id', 'item_id', 'rating']], reader)\n",
    "\n",
    "benchmark = []\n",
    "# Iterate over all algorithms\n",
    "for algorithm in [SVD(), NMF(), NormalPredictor(), KNNBaseline(), KNNBasic(), KNNWithMeans(), KNNWithZScore(), BaselineOnly()]:\n",
    "    # Perform cross validation\n",
    "    results = cross_validate(algorithm, data, measures=['RMSE', \"MAE\"], cv=5, verbose=False)\n",
    "    \n",
    "    # Get results & append algorithm name\n",
    "    tmp = pd.DataFrame.from_dict(results).mean(axis=0)\n",
    "    tmp = tmp.append(pd.Series([str(algorithm).split(' ')[0].split('.')[-1]], index=['Algorithm']))\n",
    "    benchmark.append(tmp)"
   ]
  },
  {
   "cell_type": "code",
   "execution_count": 26,
   "metadata": {},
   "outputs": [
    {
     "data": {
      "text/html": [
       "<div>\n",
       "<style scoped>\n",
       "    .dataframe tbody tr th:only-of-type {\n",
       "        vertical-align: middle;\n",
       "    }\n",
       "\n",
       "    .dataframe tbody tr th {\n",
       "        vertical-align: top;\n",
       "    }\n",
       "\n",
       "    .dataframe thead th {\n",
       "        text-align: right;\n",
       "    }\n",
       "</style>\n",
       "<table border=\"1\" class=\"dataframe\">\n",
       "  <thead>\n",
       "    <tr style=\"text-align: right;\">\n",
       "      <th></th>\n",
       "      <th>test_rmse</th>\n",
       "      <th>test_mae</th>\n",
       "      <th>fit_time</th>\n",
       "      <th>test_time</th>\n",
       "    </tr>\n",
       "    <tr>\n",
       "      <th>Algorithm</th>\n",
       "      <th></th>\n",
       "      <th></th>\n",
       "      <th></th>\n",
       "      <th></th>\n",
       "    </tr>\n",
       "  </thead>\n",
       "  <tbody>\n",
       "    <tr>\n",
       "      <th>BaselineOnly</th>\n",
       "      <td>0.885800</td>\n",
       "      <td>0.706579</td>\n",
       "      <td>0.791227</td>\n",
       "      <td>0.491570</td>\n",
       "    </tr>\n",
       "    <tr>\n",
       "      <th>SVD</th>\n",
       "      <td>0.893184</td>\n",
       "      <td>0.708956</td>\n",
       "      <td>2.870429</td>\n",
       "      <td>0.456861</td>\n",
       "    </tr>\n",
       "    <tr>\n",
       "      <th>KNNBaseline</th>\n",
       "      <td>0.923082</td>\n",
       "      <td>0.726138</td>\n",
       "      <td>1.739796</td>\n",
       "      <td>3.167013</td>\n",
       "    </tr>\n",
       "    <tr>\n",
       "      <th>KNNWithZScore</th>\n",
       "      <td>0.951120</td>\n",
       "      <td>0.749206</td>\n",
       "      <td>1.227595</td>\n",
       "      <td>3.018960</td>\n",
       "    </tr>\n",
       "    <tr>\n",
       "      <th>KNNWithMeans</th>\n",
       "      <td>0.951184</td>\n",
       "      <td>0.751231</td>\n",
       "      <td>1.001780</td>\n",
       "      <td>2.885226</td>\n",
       "    </tr>\n",
       "    <tr>\n",
       "      <th>NMF</th>\n",
       "      <td>0.995599</td>\n",
       "      <td>0.791227</td>\n",
       "      <td>9.029701</td>\n",
       "      <td>0.450577</td>\n",
       "    </tr>\n",
       "    <tr>\n",
       "      <th>KNNBasic</th>\n",
       "      <td>1.000704</td>\n",
       "      <td>0.790562</td>\n",
       "      <td>0.914038</td>\n",
       "      <td>2.733662</td>\n",
       "    </tr>\n",
       "    <tr>\n",
       "      <th>NormalPredictor</th>\n",
       "      <td>1.341909</td>\n",
       "      <td>1.073049</td>\n",
       "      <td>0.340799</td>\n",
       "      <td>0.476726</td>\n",
       "    </tr>\n",
       "  </tbody>\n",
       "</table>\n",
       "</div>"
      ],
      "text/plain": [
       "                 test_rmse  test_mae  fit_time  test_time\n",
       "Algorithm                                                \n",
       "BaselineOnly      0.885800  0.706579  0.791227   0.491570\n",
       "SVD               0.893184  0.708956  2.870429   0.456861\n",
       "KNNBaseline       0.923082  0.726138  1.739796   3.167013\n",
       "KNNWithZScore     0.951120  0.749206  1.227595   3.018960\n",
       "KNNWithMeans      0.951184  0.751231  1.001780   2.885226\n",
       "NMF               0.995599  0.791227  9.029701   0.450577\n",
       "KNNBasic          1.000704  0.790562  0.914038   2.733662\n",
       "NormalPredictor   1.341909  1.073049  0.340799   0.476726"
      ]
     },
     "execution_count": 26,
     "metadata": {},
     "output_type": "execute_result"
    }
   ],
   "source": [
    "pd.DataFrame(benchmark).set_index('Algorithm').sort_values('test_rmse')    "
   ]
  },
  {
   "cell_type": "markdown",
   "metadata": {
    "id": "xH2pR-0-Dubs"
   },
   "source": [
    "________________________________________________________________________________"
   ]
  },
  {
   "cell_type": "markdown",
   "metadata": {
    "id": "8aGXB7AV6Ig4"
   },
   "source": [
    "### Memory-based model 1 - BaselineOnly Model"
   ]
  },
  {
   "cell_type": "code",
   "execution_count": 37,
   "metadata": {
    "colab": {
     "base_uri": "https://localhost:8080/"
    },
    "id": "xgBNEBfu4GLf",
    "outputId": "dd892b35-7255-4b7f-fd02-9bd52ffff1ab"
   },
   "outputs": [
    {
     "name": "stdout",
     "output_type": "stream",
     "text": [
      "Estimating biases using als...\n",
      "Estimating biases using als...\n",
      "Estimating biases using als...\n",
      "Estimating biases using als...\n",
      "Estimating biases using als...\n",
      "Estimating biases using als...\n"
     ]
    }
   ],
   "source": [
    "reader = Reader()\n",
    "data = Dataset.load_from_df(train_df[['user_id', 'item_id', 'rating']], reader)\n",
    "\n",
    "# runing algo and get prediction results\n",
    "algo = BaselineOnly()\n",
    "cross_validate(algo, data, measures=['RMSE', 'MAE'], cv=5, verbose=False)\n",
    "trainset = data.build_full_trainset()\n",
    "algo.fit(trainset)\n",
    "predicted_ratings = []\n",
    "for index, row in train_df.iterrows():\n",
    "    user_id = row['user_id']\n",
    "    item_id = row['item_id']\n",
    "    prediction = algo.predict(user_id, item_id)\n",
    "    predicted_ratings.append(prediction.est)\n"
   ]
  },
  {
   "cell_type": "code",
   "execution_count": 39,
   "metadata": {},
   "outputs": [
    {
     "name": "stdout",
     "output_type": "stream",
     "text": [
      "<class 'pandas.core.frame.DataFrame'>\n",
      "RangeIndex: 286136 entries, 0 to 286135\n",
      "Data columns (total 4 columns):\n",
      " #   Column     Non-Null Count   Dtype \n",
      "---  ------     --------------   ----- \n",
      " 0   user_id    286136 non-null  int64 \n",
      " 1   item_id    286136 non-null  int64 \n",
      " 2   rating     286136 non-null  int64 \n",
      " 3   book_name  286136 non-null  object\n",
      "dtypes: int64(3), object(1)\n",
      "memory usage: 8.7+ MB\n"
     ]
    }
   ],
   "source": [
    "train_df.info()"
   ]
  },
  {
   "cell_type": "code",
   "execution_count": 41,
   "metadata": {},
   "outputs": [],
   "source": [
    "# Auxiliary function for evaluation\n",
    "# Referenced: https://towardsdatascience.com/building-and-testing-recommender-systems-with-surprise-step-by-step-d4ba702ef80b\n",
    "\n",
    "def get_Iu(uid):\n",
    "    \"\"\" return the number of items rated by given user\n",
    "    args: \n",
    "      uid: the id of the user\n",
    "    returns: \n",
    "      the number of items rated by the user\n",
    "    \"\"\"\n",
    "    try:\n",
    "        return len(trainset.ur[trainset.to_inner_uid(uid)])\n",
    "    except ValueError: # user was not part of the trainset\n",
    "        return 0\n",
    "    \n",
    "def get_Ui(iid):\n",
    "    \"\"\" return number of users that have rated given item\n",
    "    args:\n",
    "      iid: the raw id of the item\n",
    "    returns:\n",
    "      the number of users that have rated the item.\n",
    "    \"\"\"\n",
    "    try: \n",
    "        return len(trainset.ir[trainset.to_inner_iid(iid)])\n",
    "    except ValueError:\n",
    "        return 0\n",
    "    \n",
    "# train_df.drop(\"book_name\", axis = 1, inplace = True)\n",
    "train_df[\"Prediction\"] = predicted_ratings\n",
    "train_df['ratings given by user'] = train_df.user_id.apply(get_Iu)\n",
    "train_df['Count of ratings to item'] = train_df.item_id.apply(get_Ui)\n",
    "train_df['error'] = abs(train_df.Prediction - train_df.rating)\n",
    "best_predictions = train_df.sort_values(by='error')[:10]\n",
    "worst_predictions = train_df.sort_values(by='error')[-10:]"
   ]
  },
  {
   "cell_type": "code",
   "execution_count": 42,
   "metadata": {},
   "outputs": [
    {
     "data": {
      "text/html": [
       "<div>\n",
       "<style scoped>\n",
       "    .dataframe tbody tr th:only-of-type {\n",
       "        vertical-align: middle;\n",
       "    }\n",
       "\n",
       "    .dataframe tbody tr th {\n",
       "        vertical-align: top;\n",
       "    }\n",
       "\n",
       "    .dataframe thead th {\n",
       "        text-align: right;\n",
       "    }\n",
       "</style>\n",
       "<table border=\"1\" class=\"dataframe\">\n",
       "  <thead>\n",
       "    <tr style=\"text-align: right;\">\n",
       "      <th></th>\n",
       "      <th>user_id</th>\n",
       "      <th>item_id</th>\n",
       "      <th>rating</th>\n",
       "      <th>Prediction</th>\n",
       "      <th>ratings given by user</th>\n",
       "      <th>Count of ratings to item</th>\n",
       "      <th>error</th>\n",
       "    </tr>\n",
       "  </thead>\n",
       "  <tbody>\n",
       "    <tr>\n",
       "      <th>243416</th>\n",
       "      <td>3140</td>\n",
       "      <td>29732</td>\n",
       "      <td>5</td>\n",
       "      <td>5.0</td>\n",
       "      <td>44</td>\n",
       "      <td>19</td>\n",
       "      <td>0.0</td>\n",
       "    </tr>\n",
       "    <tr>\n",
       "      <th>235503</th>\n",
       "      <td>2329</td>\n",
       "      <td>3318</td>\n",
       "      <td>5</td>\n",
       "      <td>5.0</td>\n",
       "      <td>272</td>\n",
       "      <td>45</td>\n",
       "      <td>0.0</td>\n",
       "    </tr>\n",
       "    <tr>\n",
       "      <th>20357</th>\n",
       "      <td>198</td>\n",
       "      <td>8534</td>\n",
       "      <td>5</td>\n",
       "      <td>5.0</td>\n",
       "      <td>236</td>\n",
       "      <td>33</td>\n",
       "      <td>0.0</td>\n",
       "    </tr>\n",
       "    <tr>\n",
       "      <th>20358</th>\n",
       "      <td>198</td>\n",
       "      <td>77</td>\n",
       "      <td>5</td>\n",
       "      <td>5.0</td>\n",
       "      <td>236</td>\n",
       "      <td>138</td>\n",
       "      <td>0.0</td>\n",
       "    </tr>\n",
       "    <tr>\n",
       "      <th>20363</th>\n",
       "      <td>198</td>\n",
       "      <td>5160</td>\n",
       "      <td>5</td>\n",
       "      <td>5.0</td>\n",
       "      <td>236</td>\n",
       "      <td>29</td>\n",
       "      <td>0.0</td>\n",
       "    </tr>\n",
       "    <tr>\n",
       "      <th>20368</th>\n",
       "      <td>198</td>\n",
       "      <td>5748</td>\n",
       "      <td>5</td>\n",
       "      <td>5.0</td>\n",
       "      <td>236</td>\n",
       "      <td>108</td>\n",
       "      <td>0.0</td>\n",
       "    </tr>\n",
       "    <tr>\n",
       "      <th>20369</th>\n",
       "      <td>198</td>\n",
       "      <td>1856</td>\n",
       "      <td>5</td>\n",
       "      <td>5.0</td>\n",
       "      <td>236</td>\n",
       "      <td>53</td>\n",
       "      <td>0.0</td>\n",
       "    </tr>\n",
       "    <tr>\n",
       "      <th>190756</th>\n",
       "      <td>1919</td>\n",
       "      <td>1030</td>\n",
       "      <td>5</td>\n",
       "      <td>5.0</td>\n",
       "      <td>203</td>\n",
       "      <td>105</td>\n",
       "      <td>0.0</td>\n",
       "    </tr>\n",
       "    <tr>\n",
       "      <th>20380</th>\n",
       "      <td>198</td>\n",
       "      <td>1891</td>\n",
       "      <td>5</td>\n",
       "      <td>5.0</td>\n",
       "      <td>236</td>\n",
       "      <td>410</td>\n",
       "      <td>0.0</td>\n",
       "    </tr>\n",
       "    <tr>\n",
       "      <th>20381</th>\n",
       "      <td>198</td>\n",
       "      <td>672</td>\n",
       "      <td>5</td>\n",
       "      <td>5.0</td>\n",
       "      <td>236</td>\n",
       "      <td>36</td>\n",
       "      <td>0.0</td>\n",
       "    </tr>\n",
       "  </tbody>\n",
       "</table>\n",
       "</div>"
      ],
      "text/plain": [
       "        user_id  item_id  ...  Count of ratings to item  error\n",
       "243416     3140    29732  ...                        19    0.0\n",
       "235503     2329     3318  ...                        45    0.0\n",
       "20357       198     8534  ...                        33    0.0\n",
       "20358       198       77  ...                       138    0.0\n",
       "20363       198     5160  ...                        29    0.0\n",
       "20368       198     5748  ...                       108    0.0\n",
       "20369       198     1856  ...                        53    0.0\n",
       "190756     1919     1030  ...                       105    0.0\n",
       "20380       198     1891  ...                       410    0.0\n",
       "20381       198      672  ...                        36    0.0\n",
       "\n",
       "[10 rows x 7 columns]"
      ]
     },
     "execution_count": 42,
     "metadata": {},
     "output_type": "execute_result"
    }
   ],
   "source": [
    "best_predictions"
   ]
  },
  {
   "cell_type": "code",
   "execution_count": 43,
   "metadata": {},
   "outputs": [
    {
     "data": {
      "text/html": [
       "<div>\n",
       "<style scoped>\n",
       "    .dataframe tbody tr th:only-of-type {\n",
       "        vertical-align: middle;\n",
       "    }\n",
       "\n",
       "    .dataframe tbody tr th {\n",
       "        vertical-align: top;\n",
       "    }\n",
       "\n",
       "    .dataframe thead th {\n",
       "        text-align: right;\n",
       "    }\n",
       "</style>\n",
       "<table border=\"1\" class=\"dataframe\">\n",
       "  <thead>\n",
       "    <tr style=\"text-align: right;\">\n",
       "      <th></th>\n",
       "      <th>user_id</th>\n",
       "      <th>item_id</th>\n",
       "      <th>rating</th>\n",
       "      <th>Prediction</th>\n",
       "      <th>ratings given by user</th>\n",
       "      <th>Count of ratings to item</th>\n",
       "      <th>error</th>\n",
       "    </tr>\n",
       "  </thead>\n",
       "  <tbody>\n",
       "    <tr>\n",
       "      <th>191723</th>\n",
       "      <td>2671</td>\n",
       "      <td>4041</td>\n",
       "      <td>1</td>\n",
       "      <td>4.516458</td>\n",
       "      <td>107</td>\n",
       "      <td>141</td>\n",
       "      <td>3.516458</td>\n",
       "    </tr>\n",
       "    <tr>\n",
       "      <th>76300</th>\n",
       "      <td>748</td>\n",
       "      <td>153</td>\n",
       "      <td>1</td>\n",
       "      <td>4.530973</td>\n",
       "      <td>68</td>\n",
       "      <td>800</td>\n",
       "      <td>3.530973</td>\n",
       "    </tr>\n",
       "    <tr>\n",
       "      <th>173001</th>\n",
       "      <td>1812</td>\n",
       "      <td>105</td>\n",
       "      <td>1</td>\n",
       "      <td>4.573162</td>\n",
       "      <td>157</td>\n",
       "      <td>105</td>\n",
       "      <td>3.573162</td>\n",
       "    </tr>\n",
       "    <tr>\n",
       "      <th>106051</th>\n",
       "      <td>1121</td>\n",
       "      <td>242</td>\n",
       "      <td>1</td>\n",
       "      <td>4.584115</td>\n",
       "      <td>14</td>\n",
       "      <td>303</td>\n",
       "      <td>3.584115</td>\n",
       "    </tr>\n",
       "    <tr>\n",
       "      <th>198508</th>\n",
       "      <td>2027</td>\n",
       "      <td>80</td>\n",
       "      <td>1</td>\n",
       "      <td>4.646298</td>\n",
       "      <td>55</td>\n",
       "      <td>203</td>\n",
       "      <td>3.646298</td>\n",
       "    </tr>\n",
       "    <tr>\n",
       "      <th>557</th>\n",
       "      <td>4</td>\n",
       "      <td>529</td>\n",
       "      <td>1</td>\n",
       "      <td>4.654988</td>\n",
       "      <td>572</td>\n",
       "      <td>105</td>\n",
       "      <td>3.654988</td>\n",
       "    </tr>\n",
       "    <tr>\n",
       "      <th>225681</th>\n",
       "      <td>2572</td>\n",
       "      <td>7493</td>\n",
       "      <td>1</td>\n",
       "      <td>4.673786</td>\n",
       "      <td>31</td>\n",
       "      <td>41</td>\n",
       "      <td>3.673786</td>\n",
       "    </tr>\n",
       "    <tr>\n",
       "      <th>173622</th>\n",
       "      <td>1817</td>\n",
       "      <td>1282</td>\n",
       "      <td>1</td>\n",
       "      <td>4.719716</td>\n",
       "      <td>91</td>\n",
       "      <td>444</td>\n",
       "      <td>3.719716</td>\n",
       "    </tr>\n",
       "    <tr>\n",
       "      <th>88342</th>\n",
       "      <td>852</td>\n",
       "      <td>12479</td>\n",
       "      <td>1</td>\n",
       "      <td>4.756892</td>\n",
       "      <td>113</td>\n",
       "      <td>15</td>\n",
       "      <td>3.756892</td>\n",
       "    </tr>\n",
       "    <tr>\n",
       "      <th>101911</th>\n",
       "      <td>1284</td>\n",
       "      <td>1282</td>\n",
       "      <td>1</td>\n",
       "      <td>4.840028</td>\n",
       "      <td>50</td>\n",
       "      <td>444</td>\n",
       "      <td>3.840028</td>\n",
       "    </tr>\n",
       "  </tbody>\n",
       "</table>\n",
       "</div>"
      ],
      "text/plain": [
       "        user_id  item_id  ...  Count of ratings to item     error\n",
       "191723     2671     4041  ...                       141  3.516458\n",
       "76300       748      153  ...                       800  3.530973\n",
       "173001     1812      105  ...                       105  3.573162\n",
       "106051     1121      242  ...                       303  3.584115\n",
       "198508     2027       80  ...                       203  3.646298\n",
       "557           4      529  ...                       105  3.654988\n",
       "225681     2572     7493  ...                        41  3.673786\n",
       "173622     1817     1282  ...                       444  3.719716\n",
       "88342       852    12479  ...                        15  3.756892\n",
       "101911     1284     1282  ...                       444  3.840028\n",
       "\n",
       "[10 rows x 7 columns]"
      ]
     },
     "execution_count": 43,
     "metadata": {},
     "output_type": "execute_result"
    }
   ],
   "source": [
    "worst_predictions"
   ]
  },
  {
   "cell_type": "code",
   "execution_count": 45,
   "metadata": {},
   "outputs": [
    {
     "data": {
      "image/png": "[encoded data removed]",
      "text/plain": [
       "<Figure size 432x288 with 1 Axes>"
      ]
     },
     "metadata": {},
     "output_type": "display_data"
    }
   ],
   "source": [
    "# Assuming train_df is your DataFrame with a column named \"Predictions\"\n",
    "predictions = train_df[\"Prediction\"]\n",
    "\n",
    "# Plotting the distribution\n",
    "sns.histplot(predictions, kde=True)\n",
    "plt.title(\"Distribution of Predictions\")\n",
    "plt.xlabel(\"Predictions\")\n",
    "plt.ylabel(\"Count\")\n",
    "plt.show()"
   ]
  },
  {
   "cell_type": "code",
   "execution_count": null,
   "metadata": {},
   "outputs": [],
   "source": [
    "predicted_ratings = []\n",
    "for index, row in test_df.iterrows():\n",
    "    user_id = row['user_id']\n",
    "    item_id = row['item_id']\n",
    "    prediction = algo.predict(user_id, item_id)\n",
    "    predicted_ratings.append(prediction.est)\n"
   ]
  },
  {
   "cell_type": "code",
   "execution_count": 28,
   "metadata": {
    "id": "aT_PWY26vLFY"
   },
   "outputs": [],
   "source": [
    "test_df = pd.read_csv(FolderPath + \"/test.csv\")\n",
    "test_df[\"rating\"] = predicted_ratings"
   ]
  },
  {
   "cell_type": "code",
   "execution_count": 19,
   "metadata": {
    "id": "TsZxvh_m4btP"
   },
   "outputs": [],
   "source": [
    "# test_df[[\"ID\", \"rating\"]].to_csv(FolderPath + \"/baselineOnly.csv\", index = False)"
   ]
  },
  {
   "cell_type": "markdown",
   "metadata": {
    "id": "xH2pR-0-Dubs"
   },
   "source": [
    "________________________________________________________________________________"
   ]
  },
  {
   "cell_type": "markdown",
   "metadata": {
    "colab": {
     "base_uri": "https://localhost:8080/"
    },
    "id": "r_yU8qAH6hQL",
    "outputId": "07fb4eb5-41ec-4ac3-ae02-e5cfa8adade3"
   },
   "source": [
    "### SVD Model - combination of parameters"
   ]
  },
  {
   "cell_type": "code",
   "execution_count": 35,
   "metadata": {
    "id": "V61Zb1R3NQsQ"
   },
   "outputs": [],
   "source": [
    "# # 0.69876\n",
    "# # 0.8147 when convert to int\n",
    "\n",
    "# test_df.rename(columns = {\"SVD_rating\": \"rating\"}, inplace = True)\n",
    "# test_df[[\"ID\", \"rating\"]].to_csv(FolderPath + \"basic_200_0.001.csv\", index = False)"
   ]
  },
  {
   "cell_type": "code",
   "execution_count": 46,
   "metadata": {
    "id": "Ix-_qzjroxBv"
   },
   "outputs": [],
   "source": [
    "train_df = pd.read_csv(FolderPath + \"/train.csv\")\n",
    "test_df = pd.read_csv(FolderPath + \"/test.csv\")"
   ]
  },
  {
   "cell_type": "code",
   "execution_count": 47,
   "metadata": {
    "id": "bN6G5aUE0iEp"
   },
   "outputs": [],
   "source": [
    "reader = Reader()\n",
    "data = Dataset.load_from_df(train_df[['user_id', 'item_id', 'rating']], reader)"
   ]
  },
  {
   "cell_type": "code",
   "execution_count": null,
   "metadata": {
    "colab": {
     "base_uri": "https://localhost:8080/",
     "height": 472
    },
    "id": "_uUXYdm60lV-",
    "outputId": "fc100be1-2640-41a2-f05b-4fcd59f8eafc"
   },
   "outputs": [
    {
     "data": {
      "image/png": "[encoded data removed]",
      "text/plain": [
       "<Figure size 640x480 with 1 Axes>"
      ]
     },
     "metadata": {},
     "output_type": "display_data"
    }
   ],
   "source": [
    "import matplotlib.pyplot as plt\n",
    "from surprise import SVD, Dataset, accuracy\n",
    "from surprise.model_selection import cross_validate, KFold\n",
    "\n",
    "# Load your dataset here\n",
    "# data = Dataset.load_builtin('ml-100k')\n",
    "\n",
    "n_epochs = [50, 100, 150, 200]\n",
    "lr_all = [0.001, 0.005, 0.01, 0.05]\n",
    "reg_all = 0.1\n",
    "\n",
    "avg_rmses = []\n",
    "\n",
    "for epoch in n_epochs:\n",
    "    temp_rmses = []\n",
    "    for lr in lr_all:\n",
    "        algo = SVD(n_epochs=epoch, lr_all=lr, reg_all=reg_all, random_state=SEED)\n",
    "        cv = cross_validate(algo, data, measures=['RMSE'], cv=5)\n",
    "        temp_rmses.append(np.mean(cv['test_rmse']))\n",
    "    avg_rmses.append(temp_rmses)\n",
    "\n",
    "# Plotting\n",
    "for i, rmses in enumerate(avg_rmses):\n",
    "    plt.plot(lr_all, rmses, marker='o', label=f'n_epochs={n_epochs[i]}')\n",
    "\n",
    "plt.title('RMSE vs Learning Rate for various epochs')\n",
    "plt.xlabel('Learning Rate')\n",
    "plt.ylabel('Average RMSE')\n",
    "plt.legend()\n",
    "plt.show()"
   ]
  },
  {
   "cell_type": "code",
   "execution_count": 38,
   "metadata": {
    "id": "O56eVWlrgKXp"
   },
   "outputs": [],
   "source": [
    "import matplotlib.pyplot as plt\n",
    "from surprise import SVD, Dataset, accuracy\n",
    "from surprise.model_selection import cross_validate, KFold\n",
    "\n",
    "# Load your dataset here\n",
    "# data = Dataset.load_builtin('ml-100k')\n",
    "\n",
    "n_epochs = [50, 100, 150, 200]\n",
    "lr_all = [0.001, 0.005, 0.01, 0.05]\n",
    "reg_all = 0.1\n",
    "SEED = 2  # set your random state seed here\n",
    "\n",
    "avg_maes = []\n",
    "\n",
    "for epoch in n_epochs:\n",
    "    temp_maes = []\n",
    "    for lr in lr_all:\n",
    "        algo = SVD(n_epochs=epoch, lr_all=lr, reg_all=reg_all, random_state=SEED)\n",
    "        cv = cross_validate(algo, data, measures=['MAE'], cv=5)\n",
    "        temp_maes.append(np.mean(cv['test_mae']))\n",
    "    avg_maes.append(temp_maes)"
   ]
  },
  {
   "cell_type": "code",
   "execution_count": 41,
   "metadata": {
    "colab": {
     "base_uri": "https://localhost:8080/",
     "height": 472
    },
    "id": "zAUSnL_QgbrE",
    "outputId": "45d47244-a440-4f09-c4b0-748fcf9d8820"
   },
   "outputs": [
    {
     "data": {
      "image/png": "[encoded data removed]",
      "text/plain": [
       "<Figure size 640x480 with 1 Axes>"
      ]
     },
     "metadata": {},
     "output_type": "display_data"
    }
   ],
   "source": [
    "# Plot MAE\n",
    "for i, maes in enumerate(avg_maes):\n",
    "    plt.plot(lr_all, maes, marker='o', label=f'n_epochs={n_epochs[i]}')\n",
    "\n",
    "plt.title('MAE vs Learning Rate for various epochs')\n",
    "plt.xlabel('Learning Rate')\n",
    "plt.ylabel('Average MAE')\n",
    "plt.legend()\n",
    "plt.show()"
   ]
  },
  {
   "cell_type": "markdown",
   "metadata": {
    "id": "xH2pR-0-Dubs"
   },
   "source": [
    "________________________________________________________________________________"
   ]
  },
  {
   "cell_type": "markdown",
   "metadata": {
    "id": "JnNc2MPlLHn2"
   },
   "source": [
    "## SVD - Best lr and epoch combinations"
   ]
  },
  {
   "cell_type": "markdown",
   "metadata": {
    "id": "SHM4B-MSLX2l"
   },
   "source": [
    "### Best combination 1 - lr = 0.005, epochs = 50"
   ]
  },
  {
   "cell_type": "code",
   "execution_count": 15,
   "metadata": {
    "colab": {
     "base_uri": "https://localhost:8080/"
    },
    "id": "bttZpB--1_eY",
    "outputId": "e723cf1e-669c-4f43-d67f-80d2bbde0037"
   },
   "outputs": [
    {
     "name": "stdout",
     "output_type": "stream",
     "text": [
      "Evaluating RMSE, MAE of algorithm SVD on 5 split(s).\n",
      "\n",
      "                  Fold 1  Fold 2  Fold 3  Fold 4  Fold 5  Mean    Std     \n",
      "RMSE (testset)    0.8881  0.8816  0.8849  0.8868  0.8818  0.8846  0.0026  \n",
      "MAE (testset)     0.7053  0.6994  0.7038  0.7046  0.7027  0.7032  0.0021  \n",
      "Fit time          11.08   11.13   11.12   9.75    10.41   10.70   0.54    \n",
      "Test time         0.32    0.75    0.74    0.52    0.31    0.53    0.20    \n"
     ]
    },
    {
     "data": {
      "text/plain": [
       "{'test_rmse': array([0.88813367, 0.88158909, 0.88486001, 0.88677693, 0.8817828 ]),\n",
       " 'test_mae': array([0.70532294, 0.69936276, 0.70378271, 0.70457476, 0.70274274]),\n",
       " 'fit_time': (11.076048374176025,\n",
       "  11.128887176513672,\n",
       "  11.116327285766602,\n",
       "  9.75194787979126,\n",
       "  10.409369468688965),\n",
       " 'test_time': (0.31511878967285156,\n",
       "  0.7539904117584229,\n",
       "  0.741586446762085,\n",
       "  0.5155768394470215,\n",
       "  0.3087186813354492)}"
      ]
     },
     "execution_count": 15,
     "metadata": {},
     "output_type": "execute_result"
    }
   ],
   "source": [
    "n_epochs = 50\n",
    "lr_all = 0.005\n",
    "reg_all = 0.1\n",
    "\n",
    "algo = SVD(n_epochs = n_epochs, lr_all = lr_all, reg_all = reg_all, random_state = SEED)\n",
    "cross_validate(algo, data, measures=['RMSE', 'MAE'], cv=5, verbose=True)"
   ]
  },
  {
   "cell_type": "code",
   "execution_count": 16,
   "metadata": {
    "id": "_ef77nlR1OFx"
   },
   "outputs": [],
   "source": [
    "data = Dataset.load_from_df(train_df[['user_id', 'item_id', 'rating']], reader)\n",
    "trainset = data.build_full_trainset()\n",
    "algo.fit(trainset)\n",
    "predicted_ratings = []\n",
    "for index, row in test_df.iterrows():\n",
    "    user_id = row['user_id']\n",
    "    item_id = row['item_id']\n",
    "    prediction = algo.predict(user_id, item_id)\n",
    "    predicted_ratings.append(prediction.est)\n"
   ]
  },
  {
   "cell_type": "code",
   "execution_count": 17,
   "metadata": {
    "id": "8EE2sWqH1eF1"
   },
   "outputs": [],
   "source": [
    "test_df[\"SVD_rating\"] = predicted_ratings"
   ]
  },
  {
   "cell_type": "code",
   "execution_count": 18,
   "metadata": {
    "colab": {
     "base_uri": "https://localhost:8080/"
    },
    "id": "nNhnwAul1qKa",
    "outputId": "a4d273d0-fe6e-45ee-ea65-e24f3d8c392c"
   },
   "outputs": [
    {
     "name": "stdout",
     "output_type": "stream",
     "text": [
      "<class 'pandas.core.frame.DataFrame'>\n",
      "RangeIndex: 56199 entries, 0 to 56198\n",
      "Data columns (total 5 columns):\n",
      " #   Column      Non-Null Count  Dtype  \n",
      "---  ------      --------------  -----  \n",
      " 0   ID          56199 non-null  int64  \n",
      " 1   user_id     56199 non-null  int64  \n",
      " 2   item_id     56199 non-null  int64  \n",
      " 3   book_name   56199 non-null  object \n",
      " 4   SVD_rating  56199 non-null  float64\n",
      "dtypes: float64(1), int64(3), object(1)\n",
      "memory usage: 2.1+ MB\n"
     ]
    }
   ],
   "source": [
    "test_df.info()"
   ]
  },
  {
   "cell_type": "code",
   "execution_count": 19,
   "metadata": {
    "id": "EO3Rb7qE1rSj"
   },
   "outputs": [],
   "source": [
    "# 0.69905\n",
    "test_df.rename(columns = {\"SVD_rating\": \"rating\"}, inplace = True)\n",
    "test_df[[\"ID\", \"rating\"]].to_csv(FolderPath + \"basic_50_0.005.csv\", index = False)"
   ]
  },
  {
   "cell_type": "markdown",
   "metadata": {
    "id": "xH2pR-0-Dubs"
   },
   "source": [
    "________________________________________________________________________________"
   ]
  },
  {
   "cell_type": "markdown",
   "metadata": {
    "id": "QpwkUNVnMQyK"
   },
   "source": [
    "### Best combination 2 - lr = 0.001, epochs = 150"
   ]
  },
  {
   "cell_type": "code",
   "execution_count": 20,
   "metadata": {
    "colab": {
     "base_uri": "https://localhost:8080/"
    },
    "id": "UZu1kqCN4EJO",
    "outputId": "7b24393c-3857-4308-e5a4-9fca0c9db432"
   },
   "outputs": [
    {
     "name": "stdout",
     "output_type": "stream",
     "text": [
      "Evaluating RMSE, MAE of algorithm SVD on 5 split(s).\n",
      "\n",
      "                  Fold 1  Fold 2  Fold 3  Fold 4  Fold 5  Mean    Std     \n",
      "RMSE (testset)    0.8858  0.8902  0.8830  0.8811  0.8828  0.8846  0.0032  \n",
      "MAE (testset)     0.7056  0.7087  0.7013  0.7002  0.7026  0.7037  0.0031  \n",
      "Fit time          29.40   31.80   32.59   30.16   28.68   30.53   1.46    \n",
      "Test time         0.30    0.83    0.34    0.65    0.31    0.49    0.22    \n"
     ]
    },
    {
     "data": {
      "text/plain": [
       "{'test_rmse': array([0.88577722, 0.89023151, 0.88296002, 0.88105006, 0.88275615]),\n",
       " 'test_mae': array([0.70563992, 0.70868   , 0.70133612, 0.70018968, 0.70259332]),\n",
       " 'fit_time': (29.4030339717865,\n",
       "  31.796489477157593,\n",
       "  32.589377880096436,\n",
       "  30.155160665512085,\n",
       "  28.6817045211792),\n",
       " 'test_time': (0.29782843589782715,\n",
       "  0.8331320285797119,\n",
       "  0.3444499969482422,\n",
       "  0.652571439743042,\n",
       "  0.31490564346313477)}"
      ]
     },
     "execution_count": 20,
     "metadata": {},
     "output_type": "execute_result"
    }
   ],
   "source": [
    "n_epochs = 150\n",
    "lr_all = 0.001\n",
    "reg_all = 0.1\n",
    "\n",
    "algo = SVD(n_epochs = n_epochs, lr_all = lr_all, reg_all = reg_all, random_state = SEED)\n",
    "cross_validate(algo, data, measures=['RMSE', 'MAE'], cv=5, verbose=True)"
   ]
  },
  {
   "cell_type": "code",
   "execution_count": 21,
   "metadata": {
    "id": "Eb0G2sN53Iox"
   },
   "outputs": [],
   "source": [
    "trainset = data.build_full_trainset()\n",
    "algo.fit(trainset)\n",
    "predicted_ratings = []\n",
    "for index, row in test_df.iterrows():\n",
    "    user_id = row['user_id']\n",
    "    item_id = row['item_id']\n",
    "    prediction = algo.predict(user_id, item_id)\n",
    "    predicted_ratings.append(prediction.est)\n"
   ]
  },
  {
   "cell_type": "code",
   "execution_count": 22,
   "metadata": {
    "id": "i7JibTsc3KpR"
   },
   "outputs": [],
   "source": [
    "test_df[\"SVD_rating\"] = predicted_ratings"
   ]
  },
  {
   "cell_type": "code",
   "execution_count": 23,
   "metadata": {
    "id": "DhED4xUf3Lb_"
   },
   "outputs": [],
   "source": [
    "# 0.70033\n",
    "test_df.rename(columns = {\"SVD_rating\": \"rating\"}, inplace = True)\n",
    "test_df[[\"ID\", \"rating\"]].to_csv(FolderPath + \"basic_150_0.001.csv\", index = False)"
   ]
  },
  {
   "cell_type": "markdown",
   "metadata": {
    "id": "xH2pR-0-Dubs"
   },
   "source": [
    "________________________________________________________________________________"
   ]
  },
  {
   "cell_type": "markdown",
   "metadata": {
    "id": "PiZ0PqonMn4z"
   },
   "source": [
    "### Best combination 3 - lr = 0.001, epochs = 200"
   ]
  },
  {
   "cell_type": "code",
   "execution_count": 48,
   "metadata": {
    "id": "xg0p-LGhPX-Z"
   },
   "outputs": [],
   "source": [
    "test_df = pd.read_csv(FolderPath + \"/test.csv\")"
   ]
  },
  {
   "cell_type": "code",
   "execution_count": 49,
   "metadata": {
    "colab": {
     "base_uri": "https://localhost:8080/"
    },
    "id": "vrzg9TOLMqG0",
    "outputId": "8c84e908-0336-494e-df11-82809f5e3a6d"
   },
   "outputs": [
    {
     "name": "stdout",
     "output_type": "stream",
     "text": [
      "Evaluating RMSE, MAE of algorithm SVD on 5 split(s).\n",
      "\n",
      "                  Fold 1  Fold 2  Fold 3  Fold 4  Fold 5  Mean    Std     \n",
      "RMSE (testset)    0.8829  0.8799  0.8868  0.8888  0.8876  0.8852  0.0033  \n",
      "MAE (testset)     0.7019  0.6986  0.7059  0.7067  0.7043  0.7035  0.0029  \n",
      "Fit time          26.30   27.25   26.70   26.33   26.27   26.57   0.38    \n",
      "Test time         0.57    0.59    0.57    0.57    0.57    0.57    0.01    \n"
     ]
    },
    {
     "data": {
      "text/plain": [
       "{'test_rmse': array([0.88286576, 0.87985648, 0.88682733, 0.88875413, 0.88763935]),\n",
       " 'test_mae': array([0.7018928 , 0.69863268, 0.70588944, 0.70672107, 0.70429611]),\n",
       " 'fit_time': (26.296306848526,\n",
       "  27.251811504364014,\n",
       "  26.70237398147583,\n",
       "  26.327537059783936,\n",
       "  26.268176078796387),\n",
       " 'test_time': (0.571061372756958,\n",
       "  0.5878851413726807,\n",
       "  0.5723822116851807,\n",
       "  0.5656390190124512,\n",
       "  0.5664620399475098)}"
      ]
     },
     "execution_count": 49,
     "metadata": {},
     "output_type": "execute_result"
    }
   ],
   "source": [
    "n_epochs = 200\n",
    "lr_all = 0.001\n",
    "reg_all = 0.1\n",
    "\n",
    "algo = SVD(n_epochs = n_epochs, lr_all = lr_all, reg_all = reg_all, random_state = SEED)\n",
    "cross_validate(algo, data, measures=['RMSE', 'MAE'], cv=5, verbose=True)"
   ]
  },
  {
   "cell_type": "code",
   "execution_count": 50,
   "metadata": {
    "id": "tGsKo0SoMvK2"
   },
   "outputs": [],
   "source": [
    "trainset = data.build_full_trainset()\n",
    "algo.fit(trainset)"
   ]
  },
  {
   "cell_type": "code",
   "execution_count": 54,
   "metadata": {},
   "outputs": [],
   "source": [
    "predicted_ratings = []\n",
    "for index, row in train_df.iterrows():\n",
    "    user_id = row['user_id']\n",
    "    item_id = row['item_id']\n",
    "    prediction = algo.predict(user_id, item_id)\n",
    "    predicted_ratings.append(prediction.est)"
   ]
  },
  {
   "cell_type": "code",
   "execution_count": 55,
   "metadata": {},
   "outputs": [],
   "source": [
    "train_df[\"Prediction\"] = predicted_ratings\n",
    "train_df['ratings given by user'] = train_df.user_id.apply(get_Iu)\n",
    "train_df['Count of ratings to item'] = train_df.item_id.apply(get_Ui)\n",
    "train_df['error'] = abs(train_df.Prediction - train_df.rating)\n",
    "best_predictions = train_df.sort_values(by='error')[:10]\n",
    "worst_predictions = train_df.sort_values(by='error')[-10:]"
   ]
  },
  {
   "cell_type": "code",
   "execution_count": 59,
   "metadata": {},
   "outputs": [
    {
     "data": {
      "image/png": "[encoded data removed]",
      "text/plain": [
       "<Figure size 432x288 with 1 Axes>"
      ]
     },
     "metadata": {},
     "output_type": "display_data"
    }
   ],
   "source": [
    "# Plotting the distribution\n",
    "sns.histplot(predicted_ratings, kde=True)\n",
    "plt.title(\"Distribution of Predictions (SVD train data)\")\n",
    "plt.xlabel(\"Predictions\")\n",
    "plt.ylabel(\"Count\")\n",
    "plt.show()"
   ]
  },
  {
   "cell_type": "code",
   "execution_count": 56,
   "metadata": {},
   "outputs": [
    {
     "data": {
      "text/html": [
       "<div>\n",
       "<style scoped>\n",
       "    .dataframe tbody tr th:only-of-type {\n",
       "        vertical-align: middle;\n",
       "    }\n",
       "\n",
       "    .dataframe tbody tr th {\n",
       "        vertical-align: top;\n",
       "    }\n",
       "\n",
       "    .dataframe thead th {\n",
       "        text-align: right;\n",
       "    }\n",
       "</style>\n",
       "<table border=\"1\" class=\"dataframe\">\n",
       "  <thead>\n",
       "    <tr style=\"text-align: right;\">\n",
       "      <th></th>\n",
       "      <th>user_id</th>\n",
       "      <th>item_id</th>\n",
       "      <th>rating</th>\n",
       "      <th>book_name</th>\n",
       "      <th>Prediction</th>\n",
       "      <th>ratings given by user</th>\n",
       "      <th>Count of ratings to item</th>\n",
       "      <th>error</th>\n",
       "    </tr>\n",
       "  </thead>\n",
       "  <tbody>\n",
       "    <tr>\n",
       "      <th>15007</th>\n",
       "      <td>150</td>\n",
       "      <td>4419</td>\n",
       "      <td>5</td>\n",
       "      <td>The Autobiography of Malcolm X</td>\n",
       "      <td>5.0</td>\n",
       "      <td>103</td>\n",
       "      <td>33</td>\n",
       "      <td>0.0</td>\n",
       "    </tr>\n",
       "    <tr>\n",
       "      <th>270352</th>\n",
       "      <td>1908</td>\n",
       "      <td>40132</td>\n",
       "      <td>5</td>\n",
       "      <td>Because They Wanted To</td>\n",
       "      <td>5.0</td>\n",
       "      <td>218</td>\n",
       "      <td>10</td>\n",
       "      <td>0.0</td>\n",
       "    </tr>\n",
       "    <tr>\n",
       "      <th>49028</th>\n",
       "      <td>666</td>\n",
       "      <td>21937</td>\n",
       "      <td>5</td>\n",
       "      <td>طاعون</td>\n",
       "      <td>5.0</td>\n",
       "      <td>43</td>\n",
       "      <td>26</td>\n",
       "      <td>0.0</td>\n",
       "    </tr>\n",
       "    <tr>\n",
       "      <th>190433</th>\n",
       "      <td>2089</td>\n",
       "      <td>1655</td>\n",
       "      <td>5</td>\n",
       "      <td>Just Mercy: A Story of Justice and Redemption</td>\n",
       "      <td>5.0</td>\n",
       "      <td>176</td>\n",
       "      <td>36</td>\n",
       "      <td>0.0</td>\n",
       "    </tr>\n",
       "    <tr>\n",
       "      <th>266055</th>\n",
       "      <td>3142</td>\n",
       "      <td>16775</td>\n",
       "      <td>5</td>\n",
       "      <td>White Night (The Dresden Files, #9)</td>\n",
       "      <td>5.0</td>\n",
       "      <td>19</td>\n",
       "      <td>12</td>\n",
       "      <td>0.0</td>\n",
       "    </tr>\n",
       "    <tr>\n",
       "      <th>6237</th>\n",
       "      <td>80</td>\n",
       "      <td>4280</td>\n",
       "      <td>5</td>\n",
       "      <td>Fables &amp; Reflections (The Sandman, #6)</td>\n",
       "      <td>5.0</td>\n",
       "      <td>62</td>\n",
       "      <td>34</td>\n",
       "      <td>0.0</td>\n",
       "    </tr>\n",
       "    <tr>\n",
       "      <th>76860</th>\n",
       "      <td>735</td>\n",
       "      <td>11762</td>\n",
       "      <td>5</td>\n",
       "      <td>Thus Spake Zarathustra: A Book for All and None</td>\n",
       "      <td>5.0</td>\n",
       "      <td>593</td>\n",
       "      <td>18</td>\n",
       "      <td>0.0</td>\n",
       "    </tr>\n",
       "    <tr>\n",
       "      <th>42853</th>\n",
       "      <td>555</td>\n",
       "      <td>303</td>\n",
       "      <td>5</td>\n",
       "      <td>Harry Potter and the Goblet of Fire (Harry Pot...</td>\n",
       "      <td>5.0</td>\n",
       "      <td>78</td>\n",
       "      <td>523</td>\n",
       "      <td>0.0</td>\n",
       "    </tr>\n",
       "    <tr>\n",
       "      <th>49074</th>\n",
       "      <td>666</td>\n",
       "      <td>21952</td>\n",
       "      <td>5</td>\n",
       "      <td>تاریخ فلسفه</td>\n",
       "      <td>5.0</td>\n",
       "      <td>43</td>\n",
       "      <td>14</td>\n",
       "      <td>0.0</td>\n",
       "    </tr>\n",
       "    <tr>\n",
       "      <th>108811</th>\n",
       "      <td>1262</td>\n",
       "      <td>7493</td>\n",
       "      <td>5</td>\n",
       "      <td>Labyrinths: Selected Stories and Other Writings</td>\n",
       "      <td>5.0</td>\n",
       "      <td>215</td>\n",
       "      <td>41</td>\n",
       "      <td>0.0</td>\n",
       "    </tr>\n",
       "  </tbody>\n",
       "</table>\n",
       "</div>"
      ],
      "text/plain": [
       "        user_id  item_id  ...  Count of ratings to item error\n",
       "15007       150     4419  ...                        33   0.0\n",
       "270352     1908    40132  ...                        10   0.0\n",
       "49028       666    21937  ...                        26   0.0\n",
       "190433     2089     1655  ...                        36   0.0\n",
       "266055     3142    16775  ...                        12   0.0\n",
       "6237         80     4280  ...                        34   0.0\n",
       "76860       735    11762  ...                        18   0.0\n",
       "42853       555      303  ...                       523   0.0\n",
       "49074       666    21952  ...                        14   0.0\n",
       "108811     1262     7493  ...                        41   0.0\n",
       "\n",
       "[10 rows x 8 columns]"
      ]
     },
     "execution_count": 56,
     "metadata": {},
     "output_type": "execute_result"
    }
   ],
   "source": [
    "best_predictions"
   ]
  },
  {
   "cell_type": "code",
   "execution_count": 57,
   "metadata": {},
   "outputs": [
    {
     "data": {
      "text/html": [
       "<div>\n",
       "<style scoped>\n",
       "    .dataframe tbody tr th:only-of-type {\n",
       "        vertical-align: middle;\n",
       "    }\n",
       "\n",
       "    .dataframe tbody tr th {\n",
       "        vertical-align: top;\n",
       "    }\n",
       "\n",
       "    .dataframe thead th {\n",
       "        text-align: right;\n",
       "    }\n",
       "</style>\n",
       "<table border=\"1\" class=\"dataframe\">\n",
       "  <thead>\n",
       "    <tr style=\"text-align: right;\">\n",
       "      <th></th>\n",
       "      <th>user_id</th>\n",
       "      <th>item_id</th>\n",
       "      <th>rating</th>\n",
       "      <th>book_name</th>\n",
       "      <th>Prediction</th>\n",
       "      <th>ratings given by user</th>\n",
       "      <th>Count of ratings to item</th>\n",
       "      <th>error</th>\n",
       "    </tr>\n",
       "  </thead>\n",
       "  <tbody>\n",
       "    <tr>\n",
       "      <th>104661</th>\n",
       "      <td>998</td>\n",
       "      <td>602</td>\n",
       "      <td>1</td>\n",
       "      <td>The Time Traveler's Wife</td>\n",
       "      <td>4.312810</td>\n",
       "      <td>581</td>\n",
       "      <td>349</td>\n",
       "      <td>3.312810</td>\n",
       "    </tr>\n",
       "    <tr>\n",
       "      <th>37027</th>\n",
       "      <td>384</td>\n",
       "      <td>242</td>\n",
       "      <td>1</td>\n",
       "      <td>The Little Prince</td>\n",
       "      <td>4.364974</td>\n",
       "      <td>252</td>\n",
       "      <td>303</td>\n",
       "      <td>3.364974</td>\n",
       "    </tr>\n",
       "    <tr>\n",
       "      <th>100397</th>\n",
       "      <td>998</td>\n",
       "      <td>3068</td>\n",
       "      <td>1</td>\n",
       "      <td>The Poisonwood Bible</td>\n",
       "      <td>4.375210</td>\n",
       "      <td>581</td>\n",
       "      <td>215</td>\n",
       "      <td>3.375210</td>\n",
       "    </tr>\n",
       "    <tr>\n",
       "      <th>106712</th>\n",
       "      <td>998</td>\n",
       "      <td>1682</td>\n",
       "      <td>1</td>\n",
       "      <td>Skinny Legs and All</td>\n",
       "      <td>4.394681</td>\n",
       "      <td>581</td>\n",
       "      <td>46</td>\n",
       "      <td>3.394681</td>\n",
       "    </tr>\n",
       "    <tr>\n",
       "      <th>173001</th>\n",
       "      <td>1812</td>\n",
       "      <td>105</td>\n",
       "      <td>1</td>\n",
       "      <td>As I Lay Dying</td>\n",
       "      <td>4.406169</td>\n",
       "      <td>157</td>\n",
       "      <td>105</td>\n",
       "      <td>3.406169</td>\n",
       "    </tr>\n",
       "    <tr>\n",
       "      <th>173622</th>\n",
       "      <td>1817</td>\n",
       "      <td>1282</td>\n",
       "      <td>1</td>\n",
       "      <td>One Hundred Years of Solitude</td>\n",
       "      <td>4.456504</td>\n",
       "      <td>91</td>\n",
       "      <td>444</td>\n",
       "      <td>3.456504</td>\n",
       "    </tr>\n",
       "    <tr>\n",
       "      <th>88342</th>\n",
       "      <td>852</td>\n",
       "      <td>12479</td>\n",
       "      <td>1</td>\n",
       "      <td>The Selected Poems</td>\n",
       "      <td>4.459084</td>\n",
       "      <td>113</td>\n",
       "      <td>15</td>\n",
       "      <td>3.459084</td>\n",
       "    </tr>\n",
       "    <tr>\n",
       "      <th>557</th>\n",
       "      <td>4</td>\n",
       "      <td>529</td>\n",
       "      <td>1</td>\n",
       "      <td>Dune (Dune Chronicles, #1)</td>\n",
       "      <td>4.467780</td>\n",
       "      <td>572</td>\n",
       "      <td>105</td>\n",
       "      <td>3.467780</td>\n",
       "    </tr>\n",
       "    <tr>\n",
       "      <th>198508</th>\n",
       "      <td>2027</td>\n",
       "      <td>80</td>\n",
       "      <td>1</td>\n",
       "      <td>Where the Sidewalk Ends</td>\n",
       "      <td>4.471670</td>\n",
       "      <td>55</td>\n",
       "      <td>203</td>\n",
       "      <td>3.471670</td>\n",
       "    </tr>\n",
       "    <tr>\n",
       "      <th>101911</th>\n",
       "      <td>1284</td>\n",
       "      <td>1282</td>\n",
       "      <td>1</td>\n",
       "      <td>One Hundred Years of Solitude</td>\n",
       "      <td>4.593474</td>\n",
       "      <td>50</td>\n",
       "      <td>444</td>\n",
       "      <td>3.593474</td>\n",
       "    </tr>\n",
       "  </tbody>\n",
       "</table>\n",
       "</div>"
      ],
      "text/plain": [
       "        user_id  item_id  ...  Count of ratings to item     error\n",
       "104661      998      602  ...                       349  3.312810\n",
       "37027       384      242  ...                       303  3.364974\n",
       "100397      998     3068  ...                       215  3.375210\n",
       "106712      998     1682  ...                        46  3.394681\n",
       "173001     1812      105  ...                       105  3.406169\n",
       "173622     1817     1282  ...                       444  3.456504\n",
       "88342       852    12479  ...                        15  3.459084\n",
       "557           4      529  ...                       105  3.467780\n",
       "198508     2027       80  ...                       203  3.471670\n",
       "101911     1284     1282  ...                       444  3.593474\n",
       "\n",
       "[10 rows x 8 columns]"
      ]
     },
     "execution_count": 57,
     "metadata": {},
     "output_type": "execute_result"
    }
   ],
   "source": [
    "worst_predictions"
   ]
  },
  {
   "cell_type": "code",
   "execution_count": null,
   "metadata": {},
   "outputs": [],
   "source": [
    "predicted_ratings = []\n",
    "for index, row in test_df.iterrows():\n",
    "    user_id = row['user_id']\n",
    "    item_id = row['item_id']\n",
    "    prediction = algo.predict(user_id, item_id)\n",
    "    predicted_ratings.append(prediction.est)\n"
   ]
  },
  {
   "cell_type": "code",
   "execution_count": 52,
   "metadata": {
    "id": "4uoUBydDNOrL"
   },
   "outputs": [],
   "source": [
    "test_df[\"SVD_rating\"] = predicted_ratings"
   ]
  },
  {
   "cell_type": "code",
   "execution_count": 53,
   "metadata": {
    "colab": {
     "base_uri": "https://localhost:8080/",
     "height": 1000
    },
    "id": "I4Tn2o5nNSZE",
    "outputId": "b3bebb5e-d471-4209-c8f1-acde6fe70428"
   },
   "outputs": [
    {
     "data": {
      "image/png": "[encoded data removed]",
      "text/plain": [
       "<Figure size 432x288 with 1 Axes>"
      ]
     },
     "metadata": {},
     "output_type": "display_data"
    }
   ],
   "source": [
    "# Assuming train_df is your DataFrame with a column named \"Predictions\"\n",
    "predictions = test_df[\"SVD_rating\"]\n",
    "\n",
    "# Plotting the distribution\n",
    "sns.histplot(predictions, kde=True)\n",
    "plt.title(\"Distribution of Predictions\")\n",
    "plt.xlabel(\"Predictions\")\n",
    "plt.ylabel(\"Count\")\n",
    "plt.show()"
   ]
  },
  {
   "cell_type": "markdown",
   "metadata": {
    "id": "xH2pR-0-Dubs"
   },
   "source": [
    "________________________________________________________________________________"
   ]
  },
  {
   "cell_type": "markdown",
   "metadata": {
    "colab": {
     "base_uri": "https://localhost:8080/",
     "height": 36
    },
    "id": "zQgL839S6jqr",
    "outputId": "59a0f516-3eeb-412e-8fa7-ff9836ce763a"
   },
   "source": [
    "# Model-based collaborative filtering"
   ]
  },
  {
   "cell_type": "markdown",
   "metadata": {
    "id": "YH4dOgJuswL1"
   },
   "source": [
    "## Data Pre-processing (metadata)"
   ]
  },
  {
   "cell_type": "code",
   "execution_count": 60,
   "metadata": {
    "colab": {
     "base_uri": "https://localhost:8080/"
    },
    "id": "xtdMT4pvsvru",
    "outputId": "28e1cfc0-8b30-43e5-bc83-cc3c7c4ad632"
   },
   "outputs": [],
   "source": [
    "metadata_df = metadata_df[~metadata_df[\"item_id\"].isna()]\n",
    "metadata_df.drop([\"Name\", \"Publisher\", \"pagesNumber\", \"PublishYear\"], axis = 1, inplace = True)"
   ]
  },
  {
   "cell_type": "markdown",
   "metadata": {
    "id": "RFRp9xUktaeN"
   },
   "source": [
    "### Impute and preprocess Language"
   ]
  },
  {
   "cell_type": "code",
   "execution_count": 61,
   "metadata": {
    "colab": {
     "base_uri": "https://localhost:8080/"
    },
    "id": "jQ2hgjeRsZ2G",
    "outputId": "b8b3768a-619b-462b-ad02-8f5033aed7ad"
   },
   "outputs": [
    {
     "data": {
      "text/plain": [
       "eng      17494\n",
       "en-US     2659\n",
       "spa        669\n",
       "en-GB      529\n",
       "fre        302\n",
       "ger        181\n",
       "per         95\n",
       "ita         29\n",
       "por         22\n",
       "mul         21\n",
       "en-CA       13\n",
       "rus          9\n",
       "swe          7\n",
       "jpn          7\n",
       "nl           4\n",
       "enm          4\n",
       "grc          4\n",
       "cat          3\n",
       "zho          2\n",
       "lat          2\n",
       "pol          2\n",
       "afr          2\n",
       "gre          1\n",
       "nor          1\n",
       "dan          1\n",
       "elx          1\n",
       "gla          1\n",
       "myn          1\n",
       "kor          1\n",
       "eus          1\n",
       "frs          1\n",
       "lit          1\n",
       "ara          1\n",
       "Name: Language, dtype: int64"
      ]
     },
     "execution_count": 61,
     "metadata": {},
     "output_type": "execute_result"
    }
   ],
   "source": [
    "metadata_df.Language.value_counts()"
   ]
  },
  {
   "cell_type": "code",
   "execution_count": 62,
   "metadata": {
    "id": "mdE1oxG2s_CT"
   },
   "outputs": [],
   "source": [
    "# Grouping all english language into eng\n",
    "\n",
    "metadata_df.loc[(metadata_df[\"Language\"] == \"en-US\") | (metadata_df[\"Language\"] == \"en-GB\")| (metadata_df[\"Language\"] == \"en-CA\"), \"Language\"] = \"eng\""
   ]
  },
  {
   "cell_type": "code",
   "execution_count": 63,
   "metadata": {
    "id": "ELiFcHADtAPx"
   },
   "outputs": [],
   "source": [
    "# Impute lang values given that the author is known\n",
    "author_language_mapping = metadata_df[metadata_df['Language'].notna()].groupby('Authors')['Language'].agg(pd.Series.mode).to_dict()\n",
    "\n",
    "# author_language_mapping"
   ]
  },
  {
   "cell_type": "code",
   "execution_count": 64,
   "metadata": {
    "colab": {
     "base_uri": "https://localhost:8080/"
    },
    "id": "XxtntY_WtSja",
    "outputId": "c4f8acb7-ed91-48df-c009-fd1818118d39"
   },
   "outputs": [
    {
     "name": "stderr",
     "output_type": "stream",
     "text": [
      "Imputing Language:   0%|          | 0/44586 [00:00<?, ?it/s]\n"
     ]
    }
   ],
   "source": [
    "from tqdm import tqdm\n",
    "\n",
    "# Define a function to apply to the DataFrame\n",
    "def impute_language(row):\n",
    "    if pd.isnull(row['Language']) and row['Authors'] in author_language_mapping:\n",
    "        return author_language_mapping[row['Authors']]\n",
    "    else:\n",
    "        return row['Language']\n",
    "\n",
    "# Apply the function to the DataFrame with tqdm progress bar\n",
    "def apply_impute_language(df):\n",
    "    progress_bar = tqdm(total=len(df), desc=\"Imputing Language\")\n",
    "    def update_progress(*args):\n",
    "        progress_bar.update()\n",
    "    df['Language'] = df.apply(impute_language, axis=1)\n",
    "    progress_bar.close()\n",
    "\n",
    "# Call the function to apply the imputation with tqdm progress bar\n",
    "apply_impute_language(metadata_df)\n"
   ]
  },
  {
   "cell_type": "code",
   "execution_count": 65,
   "metadata": {
    "id": "s_IeDdeJuLjq"
   },
   "outputs": [],
   "source": [
    "# Impute rare languages\n",
    "metadata_df[\"Language\"].fillna(\"other\", inplace = True)\n",
    "# metadata_df.info()\n",
    "language_counts = metadata_df['Language'].value_counts()\n",
    "\n",
    "# If count of language is smaller than 50, impute them as \"other\"\n",
    "rare_languages = language_counts[language_counts < 50].index\n",
    "metadata_df.loc[metadata_df['Language'].isin(rare_languages), 'Language'] = 'other'"
   ]
  },
  {
   "cell_type": "code",
   "execution_count": 66,
   "metadata": {
    "colab": {
     "base_uri": "https://localhost:8080/"
    },
    "id": "etR4q7jgxnDo",
    "outputId": "f2490d67-0c99-45d2-ec06-5a655cc2b5b0"
   },
   "outputs": [
    {
     "data": {
      "text/plain": [
       "eng      29832\n",
       "other    13250\n",
       "spa        821\n",
       "fre        361\n",
       "ger        216\n",
       "per        106\n",
       "Name: Language, dtype: int64"
      ]
     },
     "execution_count": 66,
     "metadata": {},
     "output_type": "execute_result"
    }
   ],
   "source": [
    "metadata_df.Language.value_counts()"
   ]
  },
  {
   "cell_type": "code",
   "execution_count": 67,
   "metadata": {
    "id": "wZviVYzPIeSo"
   },
   "outputs": [],
   "source": [
    "# Create a dictionary mapping each language to an integer based on its frequency\n",
    "language_to_int = metadata_df['Language'].value_counts().to_dict()\n",
    "language_to_int.pop('other', None)\n",
    "ranked_languages = {k: rank for rank, k in enumerate(sorted(language_to_int, key=language_to_int.get, reverse=True), 1)}\n",
    "\n",
    "# Add 'other' to the dictionary with rank 0\n",
    "ranked_languages['other'] = 0\n",
    "# Map the languages in the 'Language' column to their corresponding integer\n",
    "metadata_df['Language_cat'] = metadata_df['Language'].map(ranked_languages)\n"
   ]
  },
  {
   "cell_type": "code",
   "execution_count": 68,
   "metadata": {
    "colab": {
     "base_uri": "https://localhost:8080/",
     "height": 424
    },
    "id": "VSOMf5QuIgE5",
    "outputId": "0543f1c8-0f3f-47ec-b6b0-25367aa41311"
   },
   "outputs": [
    {
     "data": {
      "text/html": [
       "<div>\n",
       "<style scoped>\n",
       "    .dataframe tbody tr th:only-of-type {\n",
       "        vertical-align: middle;\n",
       "    }\n",
       "\n",
       "    .dataframe tbody tr th {\n",
       "        vertical-align: top;\n",
       "    }\n",
       "\n",
       "    .dataframe thead th {\n",
       "        text-align: right;\n",
       "    }\n",
       "</style>\n",
       "<table border=\"1\" class=\"dataframe\">\n",
       "  <thead>\n",
       "    <tr style=\"text-align: right;\">\n",
       "      <th></th>\n",
       "      <th>Language</th>\n",
       "      <th>Language_cat</th>\n",
       "    </tr>\n",
       "  </thead>\n",
       "  <tbody>\n",
       "    <tr>\n",
       "      <th>0</th>\n",
       "      <td>eng</td>\n",
       "      <td>1</td>\n",
       "    </tr>\n",
       "    <tr>\n",
       "      <th>1</th>\n",
       "      <td>eng</td>\n",
       "      <td>1</td>\n",
       "    </tr>\n",
       "    <tr>\n",
       "      <th>2</th>\n",
       "      <td>eng</td>\n",
       "      <td>1</td>\n",
       "    </tr>\n",
       "    <tr>\n",
       "      <th>3</th>\n",
       "      <td>eng</td>\n",
       "      <td>1</td>\n",
       "    </tr>\n",
       "    <tr>\n",
       "      <th>4</th>\n",
       "      <td>eng</td>\n",
       "      <td>1</td>\n",
       "    </tr>\n",
       "    <tr>\n",
       "      <th>...</th>\n",
       "      <td>...</td>\n",
       "      <td>...</td>\n",
       "    </tr>\n",
       "    <tr>\n",
       "      <th>1635748</th>\n",
       "      <td>other</td>\n",
       "      <td>0</td>\n",
       "    </tr>\n",
       "    <tr>\n",
       "      <th>1635934</th>\n",
       "      <td>eng</td>\n",
       "      <td>1</td>\n",
       "    </tr>\n",
       "    <tr>\n",
       "      <th>1635952</th>\n",
       "      <td>eng</td>\n",
       "      <td>1</td>\n",
       "    </tr>\n",
       "    <tr>\n",
       "      <th>1636048</th>\n",
       "      <td>other</td>\n",
       "      <td>0</td>\n",
       "    </tr>\n",
       "    <tr>\n",
       "      <th>1636104</th>\n",
       "      <td>other</td>\n",
       "      <td>0</td>\n",
       "    </tr>\n",
       "  </tbody>\n",
       "</table>\n",
       "<p>44586 rows × 2 columns</p>\n",
       "</div>"
      ],
      "text/plain": [
       "        Language  Language_cat\n",
       "0            eng             1\n",
       "1            eng             1\n",
       "2            eng             1\n",
       "3            eng             1\n",
       "4            eng             1\n",
       "...          ...           ...\n",
       "1635748    other             0\n",
       "1635934      eng             1\n",
       "1635952      eng             1\n",
       "1636048    other             0\n",
       "1636104    other             0\n",
       "\n",
       "[44586 rows x 2 columns]"
      ]
     },
     "execution_count": 68,
     "metadata": {},
     "output_type": "execute_result"
    }
   ],
   "source": [
    "metadata_df[[\"Language\", \"Language_cat\"]]"
   ]
  },
  {
   "cell_type": "markdown",
   "metadata": {
    "id": "xH2pR-0-Dubs"
   },
   "source": [
    "________________________________________________________________________________"
   ]
  },
  {
   "cell_type": "markdown",
   "metadata": {
    "id": "8P3BJDhntb77"
   },
   "source": [
    "### AuthorBookCount"
   ]
  },
  {
   "cell_type": "code",
   "execution_count": 69,
   "metadata": {
    "id": "bjq3050utev8"
   },
   "outputs": [],
   "source": [
    "metadata_df['AuthorBookCount'] = metadata_df.groupby('Authors')['item_id'].transform('count')"
   ]
  },
  {
   "cell_type": "markdown",
   "metadata": {
    "id": "iwa-PlD-TaIr"
   },
   "source": [
    "### Put AuthorBookCount into category"
   ]
  },
  {
   "cell_type": "code",
   "execution_count": 70,
   "metadata": {
    "colab": {
     "base_uri": "https://localhost:8080/"
    },
    "id": "_rn1fJllTd5r",
    "outputId": "b537d796-d51a-4fbc-f8a3-8fc89b0955b7"
   },
   "outputs": [
    {
     "data": {
      "text/plain": [
       "(99, 100)"
      ]
     },
     "execution_count": 70,
     "metadata": {},
     "output_type": "execute_result"
    }
   ],
   "source": [
    "# Create bins and put count into category corresponding to the range\n",
    "\n",
    "quantile = 0.75\n",
    "max_value = np.quantile(metadata_df.AuthorBookCount, quantile)\n",
    "labels = np.arange(0,99)\n",
    "value_list = np.linspace(0, int(max_value), 99).tolist()\n",
    "value_list.append(np.inf)\n",
    "len(labels), len(value_list)\n"
   ]
  },
  {
   "cell_type": "code",
   "execution_count": 71,
   "metadata": {
    "id": "4IoGKvOATLkc"
   },
   "outputs": [],
   "source": [
    "# Apply bins and label to AuthorBookCount\n",
    "\n",
    "metadata_df[\"AuthorCountCat\"] = pd.cut(metadata_df['AuthorBookCount'], value_list, right=False, labels=labels)"
   ]
  },
  {
   "cell_type": "markdown",
   "metadata": {
    "id": "xH2pR-0-Dubs"
   },
   "source": [
    "________________________________________________________________________________"
   ]
  },
  {
   "cell_type": "markdown",
   "metadata": {
    "id": "XiY9I-B9TU-W"
   },
   "source": [
    "### Put CountOfReview into category"
   ]
  },
  {
   "cell_type": "code",
   "execution_count": 72,
   "metadata": {
    "colab": {
     "base_uri": "https://localhost:8080/"
    },
    "id": "_DwmWMHUPLvD",
    "outputId": "b3e9a809-1340-41c9-b65c-3fc2382336fd"
   },
   "outputs": [
    {
     "data": {
      "text/plain": [
       "(99, 100)"
      ]
     },
     "execution_count": 72,
     "metadata": {},
     "output_type": "execute_result"
    }
   ],
   "source": [
    "# Create bins and put count into category corresponding to the range\n",
    "\n",
    "quantile = 0.75\n",
    "max_value = np.quantile(metadata_df.CountsOfReview, quantile)\n",
    "labels = np.arange(0,99)\n",
    "value_list = np.linspace(0, int(max_value), 99).tolist()\n",
    "value_list.append(np.inf)\n",
    "len(labels), len(value_list)"
   ]
  },
  {
   "cell_type": "code",
   "execution_count": 73,
   "metadata": {
    "id": "X1NdBHiZQMFQ"
   },
   "outputs": [],
   "source": [
    "# Apply bins and label to ReviewCountCat\n",
    "\n",
    "metadata_df[\"ReviewCountCat\"] = pd.cut(metadata_df['CountsOfReview'], value_list, right=False, labels=labels)"
   ]
  },
  {
   "cell_type": "code",
   "execution_count": 74,
   "metadata": {
    "colab": {
     "base_uri": "https://localhost:8080/"
    },
    "id": "gU0f197OTuHV",
    "outputId": "5c18480a-03a8-4d7f-aad7-d029e59cf57e"
   },
   "outputs": [
    {
     "name": "stdout",
     "output_type": "stream",
     "text": [
      "<class 'pandas.core.frame.DataFrame'>\n",
      "Int64Index: 44586 entries, 0 to 1636104\n",
      "Data columns (total 9 columns):\n",
      " #   Column           Non-Null Count  Dtype   \n",
      "---  ------           --------------  -----   \n",
      " 0   CountsOfReview   44586 non-null  int64   \n",
      " 1   Language         44586 non-null  object  \n",
      " 2   Authors          44586 non-null  object  \n",
      " 3   Rating           44586 non-null  float64 \n",
      " 4   item_id          44586 non-null  float64 \n",
      " 5   Language_cat     44586 non-null  int64   \n",
      " 6   AuthorBookCount  44586 non-null  int64   \n",
      " 7   AuthorCountCat   44586 non-null  category\n",
      " 8   ReviewCountCat   44586 non-null  category\n",
      "dtypes: category(2), float64(2), int64(3), object(2)\n",
      "memory usage: 2.8+ MB\n"
     ]
    }
   ],
   "source": [
    "metadata_df.info()"
   ]
  },
  {
   "cell_type": "markdown",
   "metadata": {
    "id": "xH2pR-0-Dubs"
   },
   "source": [
    "________________________________________________________________________________"
   ]
  },
  {
   "cell_type": "markdown",
   "metadata": {
    "id": "zFgEzBwHvDwm"
   },
   "source": [
    "### Merging metadata to train df"
   ]
  },
  {
   "cell_type": "code",
   "execution_count": 75,
   "metadata": {
    "id": "MCa1nzgXufVr"
   },
   "outputs": [],
   "source": [
    "def merge_metadata(metadata_df, other_df):\n",
    "    df = pd.merge(other_df, metadata_df, how = 'left', on = \"item_id\")\n",
    "    df[\"AuthorBookCount\"].fillna(0, inplace = True)\n",
    "    df.drop([\"Authors\", \"Language\"], axis = 1, inplace = True)\n",
    "    df[\"Rating\"].fillna(0, inplace = True)\n",
    "    df[\"CountsOfReview\"].fillna(0, inplace = True)\n",
    "    df[\"Language_cat\"].fillna(0, inplace = True)\n",
    "    df.fillna(0, inplace = True)\n",
    "    return df\n",
    "\n",
    "# train_df = merge_metadata(metadata_df, train_df)"
   ]
  },
  {
   "cell_type": "markdown",
   "metadata": {
    "id": "xH2pR-0-Dubs"
   },
   "source": [
    "________________________________________________________________________________"
   ]
  },
  {
   "cell_type": "markdown",
   "metadata": {
    "id": "kwFGSpcWzh4V"
   },
   "source": [
    "# Implementation of basic neural network"
   ]
  },
  {
   "cell_type": "markdown",
   "metadata": {},
   "source": [
    "Metadata was not applied in this model"
   ]
  },
  {
   "cell_type": "code",
   "execution_count": 76,
   "metadata": {
    "colab": {
     "base_uri": "https://localhost:8080/"
    },
    "id": "V6Q6f7jmw_wR",
    "outputId": "7b4dd219-06ae-4584-8f3a-b2ba1af6c6d2"
   },
   "outputs": [
    {
     "name": "stdout",
     "output_type": "stream",
     "text": [
      "4154 89030\n",
      "2990 18792\n"
     ]
    }
   ],
   "source": [
    "num_users = len(train_df.user_id.unique())\n",
    "num_items = len(train_df.item_id.unique())\n",
    "print(num_users, num_items) \n",
    "\n",
    "test_num_users = len(test_df.user_id.unique())\n",
    "test_num_items = len(test_df.item_id.unique())\n",
    "print(test_num_users, test_num_items) \n"
   ]
  },
  {
   "cell_type": "code",
   "execution_count": 77,
   "metadata": {
    "id": "R5WXJlCX0K3p"
   },
   "outputs": [],
   "source": [
    "import torch\n",
    "import torch.nn as nn\n",
    "import torch.nn.functional as F"
   ]
  },
  {
   "cell_type": "code",
   "execution_count": 78,
   "metadata": {
    "id": "hx9hppbF0wzf"
   },
   "outputs": [],
   "source": [
    "# Basic MF NN\n",
    "\n",
    "class MF_bias(nn.Module):\n",
    "    def __init__(self, num_users, num_items, emb_size=100):\n",
    "        super(MF_bias, self).__init__()\n",
    "        self.user_emb = nn.Embedding(num_users, emb_size)\n",
    "        self.user_bias = nn.Embedding(num_users, 1)\n",
    "        self.item_emb = nn.Embedding(num_items, emb_size)\n",
    "        self.item_bias = nn.Embedding(num_items, 1)\n",
    "        self.user_emb.weight.data.uniform_(0,0.05)\n",
    "        self.item_emb.weight.data.uniform_(0,0.05)\n",
    "        self.user_bias.weight.data.uniform_(-0.01,0.01)\n",
    "        self.item_bias.weight.data.uniform_(-0.01,0.01)\n",
    "        \n",
    "    def forward(self, u, v):\n",
    "        U = self.user_emb(u)\n",
    "        V = self.item_emb(v)\n",
    "        b_u = self.user_bias(u).squeeze()\n",
    "        b_v = self.item_bias(v).squeeze()\n",
    "        return (U*V).sum(1) +  b_u  + b_v"
   ]
  },
  {
   "cell_type": "code",
   "execution_count": 79,
   "metadata": {
    "id": "sA2FaLmg03KQ"
   },
   "outputs": [],
   "source": [
    "# train loop\n",
    "\n",
    "def train_epochs(model, train_df, epochs=10, lr=0.01, wd=0.0, unsqueeze=False):\n",
    "    optimizer = torch.optim.Adam(model.parameters(), lr=lr, weight_decay=wd)\n",
    "    model.train()\n",
    "    for i in range(epochs):\n",
    "        users = torch.LongTensor(train_df.user_id.values).cuda()\n",
    "        items = torch.LongTensor(train_df.item_id.values).cuda()\n",
    "        ratings = torch.FloatTensor(train_df.rating.values).cuda()\n",
    "        if unsqueeze:\n",
    "            ratings = ratings.unsqueeze(1)\n",
    "        y_hat = model(users, items)\n",
    "        loss = F.mse_loss(y_hat, ratings)\n",
    "        optimizer.zero_grad()\n",
    "        loss.backward()\n",
    "        optimizer.step()\n",
    "        print(f\"epochs: {i+1}: loss: {round(loss.item(), 5)}\") \n",
    "    \n",
    "        MAX = max(y_hat.tolist())\n",
    "        MIN = min(y_hat.tolist())\n",
    "\n",
    "        # Normalizing result back to the scale of 1 to 5\n",
    "        scaled_y_hat = [value * 5 / MAX for value in y_hat]\n",
    "        \n",
    "    return scaled_y_hat\n",
    "\n",
    "# predicted_ratings = train_epochs(model, train_df, epochs=20, lr=0.01, wd=1e-5, unsqueeze=False)\n"
   ]
  },
  {
   "cell_type": "code",
   "execution_count": 82,
   "metadata": {
    "colab": {
     "base_uri": "https://localhost:8080/"
    },
    "id": "J2wbWXwg4l0z",
    "outputId": "35b8b047-47f8-4772-bba4-112df2612bdd"
   },
   "outputs": [
    {
     "name": "stdout",
     "output_type": "stream",
     "text": [
      "epochs: 1: loss: 14.69031\n",
      "epochs: 2: loss: 14.19984\n",
      "epochs: 3: loss: 13.60515\n",
      "epochs: 4: loss: 12.9038\n",
      "epochs: 5: loss: 12.09988\n",
      "epochs: 6: loss: 11.20345\n",
      "epochs: 7: loss: 10.23036\n",
      "epochs: 8: loss: 9.20135\n",
      "epochs: 9: loss: 8.14072\n",
      "epochs: 10: loss: 7.07593\n",
      "epochs: 11: loss: 6.03755\n",
      "epochs: 12: loss: 5.05858\n",
      "epochs: 13: loss: 4.17275\n",
      "epochs: 14: loss: 3.41181\n",
      "epochs: 15: loss: 2.80186\n",
      "epochs: 16: loss: 2.35893\n",
      "epochs: 17: loss: 2.08447\n",
      "epochs: 18: loss: 1.96201\n",
      "epochs: 19: loss: 1.95731\n",
      "epochs: 20: loss: 2.02381\n"
     ]
    }
   ],
   "source": [
    "# Initiate model and train model\n",
    "\n",
    "model = MF_bias(num_users, num_items, emb_size=100).cuda() # if you have a GPU\n",
    "\n",
    "predicted_ratings = train_epochs(model, train_df, epochs=20, lr=0.01, wd=5e-5, unsqueeze=False)"
   ]
  },
  {
   "cell_type": "code",
   "execution_count": null,
   "metadata": {
    "id": "zgA5hQh7YsYS"
   },
   "outputs": [],
   "source": [
    "predicted_ratings_list = [tensor.item() for tensor in predicted_ratings]\n",
    "# print(predicted_ratings_list)\n",
    "train_df[\"Predictions\"] = predicted_ratings_list"
   ]
  },
  {
   "cell_type": "code",
   "execution_count": null,
   "metadata": {
    "colab": {
     "base_uri": "https://localhost:8080/",
     "height": 472
    },
    "id": "f6vsZl082iYE",
    "outputId": "aeaf86d5-b592-45ab-ab6d-55e14ca36057"
   },
   "outputs": [
    {
     "data": {
      "image/png": "[encoded data removed]",
      "text/plain": [
       "<Figure size 640x480 with 1 Axes>"
      ]
     },
     "metadata": {},
     "output_type": "display_data"
    }
   ],
   "source": [
    "# merge result to df\n",
    "predictions = train_df[\"Predictions\"]\n",
    "\n",
    "# Plot the distribution\n",
    "sns.histplot(predictions, kde=True)\n",
    "plt.title(\"Distribution of Predictions\")\n",
    "plt.xlabel(\"Predictions\")\n",
    "plt.ylabel(\"Count\")\n",
    "plt.show()"
   ]
  },
  {
   "cell_type": "code",
   "execution_count": null,
   "metadata": {
    "colab": {
     "base_uri": "https://localhost:8080/",
     "height": 472
    },
    "id": "ERDcMq5a5Beq",
    "outputId": "987c2463-28d9-49ee-ef1a-8b7c3fb9060d"
   },
   "outputs": [
    {
     "data": {
      "image/png": "[encoded data removed]",
      "text/plain": [
       "<Figure size 640x480 with 1 Axes>"
      ]
     },
     "metadata": {},
     "output_type": "display_data"
    }
   ],
   "source": [
    "# Assuming train_df is your DataFrame with a column named \"Predictions\"\n",
    "ratings = train_df[\"rating\"]\n",
    "\n",
    "# Plotting the distribution\n",
    "sns.histplot(ratings, kde=True)\n",
    "plt.title(\"Distribution of ratings (Ground truth)\")\n",
    "plt.xlabel(\"Ratings\")\n",
    "plt.ylabel(\"Count\")\n",
    "plt.show()\n"
   ]
  },
  {
   "cell_type": "code",
   "execution_count": null,
   "metadata": {
    "id": "ly60UcLf1lkS"
   },
   "outputs": [],
   "source": [
    "# Test function\n",
    "\n",
    "def test_model(model, test_data, train_data):\n",
    "    model.eval()  # Set the model to evaluation mode\n",
    "\n",
    "    # Filter test data based on available user and item IDs in training data\n",
    "    valid_users = test_data.user_id.isin(train_data.user_id.unique())\n",
    "    valid_items = test_data.item_id.isin(train_data.item_id.unique())\n",
    "    filtered_test_data = test_data[valid_users & valid_items]\n",
    "\n",
    "    users = torch.LongTensor(filtered_test_data.user_id.values)  \n",
    "    items = torch.LongTensor(filtered_test_data.item_id.values)  \n",
    "\n",
    "    with torch.no_grad():  \n",
    "        y_hat = model(users, items)\n",
    "    MAX = max(y_hat.tolist())\n",
    "    MIN = min(y_hat.tolist())\n",
    "\n",
    "    scaled_y_hat = [value * 5 / MAX for value in y_hat]\n",
    "    return scaled_y_hat\n",
    "\n",
    "\n",
    "pred = test_model(model, test_df, train_df)\n"
   ]
  },
  {
   "cell_type": "code",
   "execution_count": null,
   "metadata": {
    "colab": {
     "base_uri": "https://localhost:8080/"
    },
    "id": "A0vR60n52QQd",
    "outputId": "039f20b6-06d7-46db-f698-9552bf416c93"
   },
   "outputs": [
    {
     "data": {
      "text/plain": [
       "(56199, 56199)"
      ]
     },
     "execution_count": 54,
     "metadata": {},
     "output_type": "execute_result"
    }
   ],
   "source": [
    "len(pred), len(test_df)\n"
   ]
  },
  {
   "cell_type": "code",
   "execution_count": null,
   "metadata": {
    "id": "JBNLJRfJZfBr"
   },
   "outputs": [],
   "source": [
    "pred_list = [tensor.item() for tensor in pred]\n",
    "test_df[\"rating\"] = pred_list"
   ]
  },
  {
   "cell_type": "code",
   "execution_count": null,
   "metadata": {
    "id": "Tc2CjAu59tiQ"
   },
   "outputs": [],
   "source": [
    "# Kaggle result: 1.0528\n",
    "\n",
    "test_df[[\"ID\", \"rating\"]].to_csv(FolderPath + \"output.csv\", index = False)"
   ]
  },
  {
   "cell_type": "markdown",
   "metadata": {
    "id": "xH2pR-0-Dubs"
   },
   "source": [
    "________________________________________________________________________________"
   ]
  },
  {
   "cell_type": "markdown",
   "metadata": {
    "id": "4VLb_iETFpvs"
   },
   "source": [
    "# Implementation of Neural Network with features "
   ]
  },
  {
   "cell_type": "markdown",
   "metadata": {
    "id": "fNdZPQQSFsn-"
   },
   "source": [
    "Metadata was taken into consideration"
   ]
  },
  {
   "cell_type": "code",
   "execution_count": 83,
   "metadata": {
    "id": "cWpoazWsGQNW"
   },
   "outputs": [],
   "source": [
    "train_df_ = merge_metadata(metadata_df, train_df)\n",
    "test_df_ = merge_metadata(metadata_df, test_df)"
   ]
  },
  {
   "cell_type": "code",
   "execution_count": 84,
   "metadata": {
    "colab": {
     "base_uri": "https://localhost:8080/"
    },
    "id": "UHIXf044GiNj",
    "outputId": "8a2fed6e-2551-4fba-b302-de04b3e45008"
   },
   "outputs": [
    {
     "name": "stdout",
     "output_type": "stream",
     "text": [
      "<class 'pandas.core.frame.DataFrame'>\n",
      "Int64Index: 286136 entries, 0 to 286135\n",
      "Data columns (total 14 columns):\n",
      " #   Column                    Non-Null Count   Dtype   \n",
      "---  ------                    --------------   -----   \n",
      " 0   user_id                   286136 non-null  int64   \n",
      " 1   item_id                   286136 non-null  int64   \n",
      " 2   rating                    286136 non-null  int64   \n",
      " 3   book_name                 286136 non-null  object  \n",
      " 4   Prediction                286136 non-null  float64 \n",
      " 5   ratings given by user     286136 non-null  int64   \n",
      " 6   Count of ratings to item  286136 non-null  int64   \n",
      " 7   error                     286136 non-null  float64 \n",
      " 8   CountsOfReview            286136 non-null  float64 \n",
      " 9   Rating                    286136 non-null  float64 \n",
      " 10  Language_cat              286136 non-null  float64 \n",
      " 11  AuthorBookCount           286136 non-null  float64 \n",
      " 12  AuthorCountCat            286136 non-null  category\n",
      " 13  ReviewCountCat            286136 non-null  category\n",
      "dtypes: category(2), float64(6), int64(5), object(1)\n",
      "memory usage: 28.9+ MB\n"
     ]
    }
   ],
   "source": [
    "train_df_.info()"
   ]
  },
  {
   "cell_type": "code",
   "execution_count": 85,
   "metadata": {
    "id": "I2Cw_lATlfRi"
   },
   "outputs": [],
   "source": [
    "class MFWithFeatures(nn.Module):\n",
    "    def __init__(self, num_users, num_items, num_languages, num_popularity_groups, num_review_count_groups, emb_size=100):\n",
    "        super(MFWithFeatures, self).__init__()\n",
    "        self.user_emb = nn.Embedding(num_users, emb_size)\n",
    "        self.item_emb = nn.Embedding(num_items, emb_size)\n",
    "        self.language_emb = nn.Embedding(num_languages, emb_size)\n",
    "        self.popularity_emb = nn.Embedding(num_popularity_groups, emb_size)\n",
    "        self.review_emb = nn.Embedding(num_review_count_groups, emb_size)\n",
    "        self.fc = nn.Linear(emb_size * 5, 1)\n",
    "        \n",
    "    def forward(self, u, v, lang, pop, rev):\n",
    "        U = self.user_emb(u)\n",
    "        V = self.item_emb(v)\n",
    "        L = self.language_emb(lang)\n",
    "        P = self.popularity_emb(pop)\n",
    "        R = self.review_emb(rev)\n",
    "        features = torch.cat([U, V, L, P, R], dim=1)\n",
    "        pred = self.fc(features)\n",
    "        pred = torch.sigmoid(pred) * 4 + 1 \n",
    "        return pred\n",
    "\n",
    "\n",
    "\n",
    "def train_epocs(model, df, epochs=20, lr=0.01, wd=0.0, unsqueeze=False):\n",
    "    optimizer = torch.optim.Adam(model.parameters(), lr=lr, weight_decay=wd)\n",
    "    model.train()\n",
    "    for i in range(epochs):\n",
    "        users = torch.LongTensor(df.user_id.values)\n",
    "        items = torch.LongTensor(df.item_id.values)\n",
    "        languages = torch.LongTensor(df.Language_cat.values)\n",
    "        popularity_groups = torch.LongTensor(df['AuthorCountRank'].values)\n",
    "        review_count_groups = torch.LongTensor(df['ReviewCountRank'].values)\n",
    "        ratings = torch.FloatTensor(df.rating.values)\n",
    "        if unsqueeze:\n",
    "            ratings = ratings.unsqueeze(1)\n",
    "        y_hat = model(users, items, languages, popularity_groups, review_count_groups)\n",
    "        loss = F.mse_loss(y_hat, ratings)\n",
    "        optimizer.zero_grad()\n",
    "        loss.backward()\n",
    "        optimizer.step()\n",
    "    return y_hat\n",
    "\n",
    "def test_model(model, test_data, train_data):\n",
    "    model.eval()  # Set the model to evaluation mode\n",
    "\n",
    "    # Filter test data based on available user and item IDs in training data\n",
    "    valid_users = test_data.user_id.isin(train_data.user_id.unique())\n",
    "    valid_items = test_data.item_id.isin(train_data.item_id.unique())\n",
    "    filtered_test_data = test_data[valid_users & valid_items]\n",
    "\n",
    "    users = torch.LongTensor(filtered_test_data.user_id.values)  # .cuda()\n",
    "    items = torch.LongTensor(filtered_test_data.item_id.values)  # .cuda()\n",
    "\n",
    "    with torch.no_grad():  \n",
    "        y_hat = model(users, items)\n",
    "    MAX = max(y_hat.tolist())\n",
    "    MIN = min(y_hat.tolist())\n",
    "\n",
    "    scaled_y_hat = [value * 5 / MAX for value in y_hat]\n",
    "    return scaled_y_hat"
   ]
  },
  {
   "cell_type": "code",
   "execution_count": 86,
   "metadata": {
    "id": "1xxP2XNJcphU"
   },
   "outputs": [],
   "source": [
    "train_df_['AuthorCountRank'] = pd.factorize(train_df_['AuthorCountCat'])[0]\n",
    "train_df_['ReviewCountRank'] = pd.factorize(train_df_['ReviewCountCat'])[0]\n"
   ]
  },
  {
   "cell_type": "code",
   "execution_count": 87,
   "metadata": {
    "colab": {
     "base_uri": "https://localhost:8080/"
    },
    "id": "mPFSg9rqGpSU",
    "outputId": "987332e1-7cd1-4dbc-a862-06dea890b5d8"
   },
   "outputs": [
    {
     "name": "stdout",
     "output_type": "stream",
     "text": [
      "4154 89030 6 13 99\n"
     ]
    }
   ],
   "source": [
    "num_users = len(train_df_.user_id.unique())\n",
    "num_items = len(train_df_.item_id.unique())\n",
    "num_languages = len(train_df_.Language_cat.unique())\n",
    "num_AuthorCountRank = len(train_df_['AuthorCountRank'].unique())\n",
    "num_ReviewCountRank = len(train_df_['ReviewCountRank'].unique())\n",
    "\n",
    "\n",
    "print(num_users, num_items, num_languages, num_AuthorCountRank, num_ReviewCountRank)\n"
   ]
  },
  {
   "cell_type": "code",
   "execution_count": 89,
   "metadata": {
    "colab": {
     "base_uri": "https://localhost:8080/"
    },
    "id": "nFm-VxkzddJv",
    "outputId": "03fd89a6-8d26-4c25-d347-70e2638665fb"
   },
   "outputs": [
    {
     "name": "stdout",
     "output_type": "stream",
     "text": [
      "<class 'pandas.core.frame.DataFrame'>\n",
      "Int64Index: 286136 entries, 0 to 286135\n",
      "Data columns (total 16 columns):\n",
      " #   Column                    Non-Null Count   Dtype   \n",
      "---  ------                    --------------   -----   \n",
      " 0   user_id                   286136 non-null  int64   \n",
      " 1   item_id                   286136 non-null  int64   \n",
      " 2   rating                    286136 non-null  int64   \n",
      " 3   book_name                 286136 non-null  object  \n",
      " 4   Prediction                286136 non-null  float64 \n",
      " 5   ratings given by user     286136 non-null  int64   \n",
      " 6   Count of ratings to item  286136 non-null  int64   \n",
      " 7   error                     286136 non-null  float64 \n",
      " 8   CountsOfReview            286136 non-null  float64 \n",
      " 9   Rating                    286136 non-null  float64 \n",
      " 10  Language_cat              286136 non-null  int32   \n",
      " 11  AuthorBookCount           286136 non-null  float64 \n",
      " 12  AuthorCountCat            286136 non-null  category\n",
      " 13  ReviewCountCat            286136 non-null  category\n",
      " 14  AuthorCountRank           286136 non-null  int64   \n",
      " 15  ReviewCountRank           286136 non-null  int64   \n",
      "dtypes: category(2), float64(5), int32(1), int64(7), object(1)\n",
      "memory usage: 32.2+ MB\n"
     ]
    }
   ],
   "source": [
    "train_df_['Language_cat'] = train_df_['Language_cat'].astype(int)\n",
    "train_df_.info()"
   ]
  },
  {
   "cell_type": "code",
   "execution_count": 90,
   "metadata": {
    "id": "aMOT_S9FKTTr"
   },
   "outputs": [],
   "source": [
    "model = MFWithFeatures(num_users, num_items, num_languages, num_AuthorCountRank, num_ReviewCountRank, emb_size=100)\n"
   ]
  },
  {
   "cell_type": "code",
   "execution_count": 91,
   "metadata": {
    "id": "Ap3r9RCxKYhn"
   },
   "outputs": [],
   "source": [
    "predicted_ratings = train_epocs(model, train_df_, epochs=50, lr=0.01, wd=5e-5, unsqueeze=True)"
   ]
  },
  {
   "cell_type": "code",
   "execution_count": null,
   "metadata": {},
   "outputs": [],
   "source": [
    "train_df_[\"Predictions\"] = predicted_ratings"
   ]
  },
  {
   "cell_type": "code",
   "execution_count": 93,
   "metadata": {},
   "outputs": [
    {
     "data": {
      "text/plain": [
       "tensor([[4.1282],\n",
       "        [4.2137],\n",
       "        [4.3225],\n",
       "        ...,\n",
       "        [3.9676],\n",
       "        [3.8570],\n",
       "        [3.5859]], grad_fn=<AddBackward0>)"
      ]
     },
     "execution_count": 93,
     "metadata": {},
     "output_type": "execute_result"
    }
   ],
   "source": [
    "predicted_ratings"
   ]
  },
  {
   "cell_type": "code",
   "execution_count": 94,
   "metadata": {},
   "outputs": [
    {
     "data": {
      "image/png": "[encoded data removed]",
      "text/plain": [
       "<Figure size 432x288 with 1 Axes>"
      ]
     },
     "metadata": {},
     "output_type": "display_data"
    }
   ],
   "source": [
    "# Convert tensor into list\n",
    "predictions = [tensor.item() for tensor in predicted_ratings]\n",
    "\n",
    "# Plotting the distribution\n",
    "sns.histplot(predictions, kde=True)\n",
    "plt.title(\"Distribution of Predictions (MF with features - train set)\")\n",
    "plt.xlabel(\"Predictions\")\n",
    "plt.ylabel(\"Count\")\n",
    "plt.show()"
   ]
  },
  {
   "cell_type": "code",
   "execution_count": null,
   "metadata": {
    "id": "z60iPmwLn4dJ"
   },
   "outputs": [],
   "source": [
    "test_df_['AuthorCountRank'] = pd.factorize(test_df_['AuthorCountCat'])[0]\n",
    "test_df_['ReviewCountRank'] = pd.factorize(test_df_['ReviewCountCat'])[0]\n"
   ]
  },
  {
   "cell_type": "code",
   "execution_count": null,
   "metadata": {
    "id": "CfOQJrKcKj3O"
   },
   "outputs": [],
   "source": [
    "def test_model(model, df, unsqueeze=False):\n",
    "    model.eval()\n",
    "    with torch.no_grad():\n",
    "        users = torch.LongTensor(df.user_id.values)\n",
    "        items = torch.LongTensor(df.item_id.values)\n",
    "        languages = torch.LongTensor(df.Language_cat.values)\n",
    "        popularity_groups = torch.LongTensor(df['AuthorCountRank'].values)\n",
    "        review_count_groups = torch.LongTensor(df['ReviewCountRank'].values)\n",
    "        if unsqueeze:\n",
    "            ratings = ratings.unsqueeze(1)\n",
    "        y_hat = model(users, items, languages, popularity_groups, review_count_groups)\n",
    "    return y_hat\n"
   ]
  },
  {
   "cell_type": "code",
   "execution_count": null,
   "metadata": {
    "id": "KW0G8pjanvNC"
   },
   "outputs": [],
   "source": [
    "pred = test_model(model, test_df_)"
   ]
  },
  {
   "cell_type": "code",
   "execution_count": null,
   "metadata": {
    "id": "ygpsmrTPoCyj"
   },
   "outputs": [],
   "source": [
    "pred_list = [tensor.item() for tensor in pred]"
   ]
  },
  {
   "cell_type": "code",
   "execution_count": null,
   "metadata": {
    "colab": {
     "base_uri": "https://localhost:8080/"
    },
    "id": "zCoNyw8lzdnm",
    "outputId": "10fb3fca-b94f-43aa-cfed-803c785618d1"
   },
   "outputs": [
    {
     "name": "stdout",
     "output_type": "stream",
     "text": [
      "<class 'pandas.core.frame.DataFrame'>\n",
      "Int64Index: 56199 entries, 0 to 56198\n",
      "Data columns (total 13 columns):\n",
      " #   Column           Non-Null Count  Dtype   \n",
      "---  ------           --------------  -----   \n",
      " 0   ID               56199 non-null  int64   \n",
      " 1   user_id          56199 non-null  int64   \n",
      " 2   item_id          56199 non-null  int64   \n",
      " 3   book_name        56199 non-null  object  \n",
      " 4   rating           56199 non-null  float64 \n",
      " 5   CountsOfReview   56199 non-null  float64 \n",
      " 6   Rating           56199 non-null  float64 \n",
      " 7   Language_cat     56199 non-null  float64 \n",
      " 8   AuthorBookCount  56199 non-null  float64 \n",
      " 9   AuthorCountCat   56199 non-null  category\n",
      " 10  ReviewCountCat   56199 non-null  category\n",
      " 11  AuthorCountRank  56199 non-null  int64   \n",
      " 12  ReviewCountRank  56199 non-null  int64   \n",
      "dtypes: category(2), float64(5), int64(5), object(1)\n",
      "memory usage: 5.3+ MB\n"
     ]
    }
   ],
   "source": [
    "test_df_.info()"
   ]
  },
  {
   "cell_type": "code",
   "execution_count": null,
   "metadata": {
    "id": "xyKvKmKWoMYD"
   },
   "outputs": [],
   "source": [
    "test_df_[\"rating\"] = pred_list"
   ]
  },
  {
   "cell_type": "code",
   "execution_count": null,
   "metadata": {
    "id": "DrtBr3YuoOx-"
   },
   "outputs": [],
   "source": [
    "# 0.77887\n",
    "\n",
    "test_df_[[\"ID\", \"rating\"]].to_csv(FolderPath + \"MF_withfeatures.csv\", index = False)"
   ]
  },
  {
   "cell_type": "code",
   "execution_count": null,
   "metadata": {
    "colab": {
     "base_uri": "https://localhost:8080/",
     "height": 472
    },
    "id": "FLRtJgpcofA2",
    "outputId": "bd06008f-c714-4068-c4e7-e5ca77f053af"
   },
   "outputs": [
    {
     "data": {
      "image/png": "[encoded data removed]",
      "text/plain": [
       "<Figure size 640x480 with 1 Axes>"
      ]
     },
     "metadata": {},
     "output_type": "display_data"
    }
   ],
   "source": [
    "predictions = pred_list\n",
    "\n",
    "# Plotting the distribution of prediction result on trainset\n",
    "sns.histplot(predictions, kde=True)\n",
    "plt.title(\"Distribution of Predictions\")\n",
    "plt.xlabel(\"Predictions\")\n",
    "plt.ylabel(\"Count\")\n",
    "plt.show()\n",
    "\n",
    "#"
   ]
  }
 ],
 "metadata": {
  "colab": {
   "provenance": []
  },
  "kernelspec": {
   "display_name": "Python 3 (Spyder)",
   "language": "python3",
   "name": "python3"
  },
  "language_info": {
   "codemirror_mode": {
    "name": "ipython",
    "version": 3
   },
   "file_extension": ".py",
   "mimetype": "text/x-python",
   "name": "python",
   "nbconvert_exporter": "python",
   "pygments_lexer": "ipython3",
   "version": "3.8.16"
  }
 },
 "nbformat": 4,
 "nbformat_minor": 4
}
