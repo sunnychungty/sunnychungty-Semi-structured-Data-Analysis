{
 "cells": [
  {
   "cell_type": "code",
   "execution_count": 1,
   "id": "2682baed",
   "metadata": {},
   "outputs": [
    {
     "name": "stdout",
     "output_type": "stream",
     "text": [
      "Looking in links: https://download.pytorch.org/whl/torch_stable.html\n",
      "Collecting torch==1.9.1+cu111\n",
      "  Using cached https://download.pytorch.org/whl/cu111/torch-1.9.1%2Bcu111-cp39-cp39-win_amd64.whl (3128.0 MB)\n",
      "Requirement already satisfied: torchvision==0.10.1+cu111 in c:\\users\\sunny\\anaconda3\\lib\\site-packages (0.10.1+cu111)\n",
      "Requirement already satisfied: torchaudio==0.9.1 in c:\\users\\sunny\\anaconda3\\lib\\site-packages (0.9.1)\n",
      "Requirement already satisfied: typing-extensions in c:\\users\\sunny\\anaconda3\\lib\\site-packages (from torch==1.9.1+cu111) (4.3.0)\n",
      "Requirement already satisfied: numpy in c:\\users\\sunny\\anaconda3\\lib\\site-packages (from torchvision==0.10.1+cu111) (1.23.5)\n",
      "Requirement already satisfied: pillow>=5.3.0 in c:\\users\\sunny\\anaconda3\\lib\\site-packages (from torchvision==0.10.1+cu111) (9.2.0)\n",
      "Installing collected packages: torch\n",
      "  Attempting uninstall: torch\n",
      "    Found existing installation: torch 1.9.0\n",
      "    Uninstalling torch-1.9.0:\n",
      "      Successfully uninstalled torch-1.9.0\n",
      "Successfully installed torch-1.9.1+cu111\n"
     ]
    },
    {
     "name": "stderr",
     "output_type": "stream",
     "text": [
      "WARNING: Ignoring invalid distribution -orch (c:\\users\\sunny\\anaconda3\\lib\\site-packages)\n",
      "WARNING: Ignoring invalid distribution -orch (c:\\users\\sunny\\anaconda3\\lib\\site-packages)\n",
      "WARNING: Ignoring invalid distribution -orch (c:\\users\\sunny\\anaconda3\\lib\\site-packages)\n",
      "    WARNING: Ignoring invalid distribution -orch (c:\\users\\sunny\\anaconda3\\lib\\site-packages)\n",
      "WARNING: Ignoring invalid distribution -orch (c:\\users\\sunny\\anaconda3\\lib\\site-packages)\n",
      "ERROR: pip's dependency resolver does not currently take into account all the packages that are installed. This behaviour is the source of the following dependency conflicts.\n",
      "torchtext 0.10.0 requires torch==1.9.0, but you have torch 1.9.1+cu111 which is incompatible.\n",
      "torchdata 0.6.0 requires torch==2.0.0, but you have torch 1.9.1+cu111 which is incompatible.\n",
      "WARNING: Ignoring invalid distribution -orch (c:\\users\\sunny\\anaconda3\\lib\\site-packages)\n",
      "WARNING: Ignoring invalid distribution -orch (c:\\users\\sunny\\anaconda3\\lib\\site-packages)\n",
      "WARNING: Ignoring invalid distribution -orch (c:\\users\\sunny\\anaconda3\\lib\\site-packages)\n"
     ]
    }
   ],
   "source": [
    "!pip3 install torch==1.9.1+cu111 torchvision==0.10.1+cu111 torchaudio==0.9.1 -f https://download.pytorch.org/whl/torch_stable.html\n"
   ]
  },
  {
   "cell_type": "code",
   "execution_count": 2,
   "id": "129297c3",
   "metadata": {},
   "outputs": [
    {
     "name": "stdout",
     "output_type": "stream",
     "text": [
      "Requirement already satisfied: torchtext==0.10.0 in c:\\users\\sunny\\anaconda3\\lib\\site-packages (0.10.0)\n",
      "Requirement already satisfied: tqdm in c:\\users\\sunny\\anaconda3\\lib\\site-packages (from torchtext==0.10.0) (4.64.0)\n",
      "Requirement already satisfied: numpy in c:\\users\\sunny\\anaconda3\\lib\\site-packages (from torchtext==0.10.0) (1.23.5)\n",
      "Collecting torch==1.9.0\n",
      "  Using cached torch-1.9.0-cp39-cp39-win_amd64.whl (222.0 MB)\n",
      "Requirement already satisfied: requests in c:\\users\\sunny\\anaconda3\\lib\\site-packages (from torchtext==0.10.0) (2.28.1)\n",
      "Requirement already satisfied: typing-extensions in c:\\users\\sunny\\anaconda3\\lib\\site-packages (from torch==1.9.0->torchtext==0.10.0) (4.3.0)\n",
      "Requirement already satisfied: idna<4,>=2.5 in c:\\users\\sunny\\anaconda3\\lib\\site-packages (from requests->torchtext==0.10.0) (3.3)\n",
      "Requirement already satisfied: charset-normalizer<3,>=2 in c:\\users\\sunny\\anaconda3\\lib\\site-packages (from requests->torchtext==0.10.0) (2.0.4)\n",
      "Requirement already satisfied: urllib3<1.27,>=1.21.1 in c:\\users\\sunny\\anaconda3\\lib\\site-packages (from requests->torchtext==0.10.0) (1.26.11)\n",
      "Requirement already satisfied: certifi>=2017.4.17 in c:\\users\\sunny\\anaconda3\\lib\\site-packages (from requests->torchtext==0.10.0) (2022.12.7)\n",
      "Requirement already satisfied: colorama in c:\\users\\sunny\\anaconda3\\lib\\site-packages (from tqdm->torchtext==0.10.0) (0.4.6)\n",
      "Installing collected packages: torch\n",
      "  Attempting uninstall: torch\n",
      "    Found existing installation: torch 1.9.1+cu111\n",
      "    Uninstalling torch-1.9.1+cu111:\n",
      "      Successfully uninstalled torch-1.9.1+cu111\n",
      "Successfully installed torch-1.9.0\n"
     ]
    },
    {
     "name": "stderr",
     "output_type": "stream",
     "text": [
      "WARNING: Ignoring invalid distribution -orch (c:\\users\\sunny\\anaconda3\\lib\\site-packages)\n",
      "WARNING: Ignoring invalid distribution -orch (c:\\users\\sunny\\anaconda3\\lib\\site-packages)\n",
      "WARNING: Ignoring invalid distribution -orch (c:\\users\\sunny\\anaconda3\\lib\\site-packages)\n",
      "    WARNING: Ignoring invalid distribution -orch (c:\\users\\sunny\\anaconda3\\lib\\site-packages)\n",
      "WARNING: Ignoring invalid distribution -orch (c:\\users\\sunny\\anaconda3\\lib\\site-packages)\n",
      "ERROR: pip's dependency resolver does not currently take into account all the packages that are installed. This behaviour is the source of the following dependency conflicts.\n",
      "torchvision 0.10.1+cu111 requires torch==1.9.1, but you have torch 1.9.0 which is incompatible.\n",
      "torchdata 0.6.0 requires torch==2.0.0, but you have torch 1.9.0 which is incompatible.\n",
      "torchaudio 0.9.1 requires torch==1.9.1, but you have torch 1.9.0 which is incompatible.\n",
      "WARNING: Ignoring invalid distribution -orch (c:\\users\\sunny\\anaconda3\\lib\\site-packages)\n",
      "WARNING: Ignoring invalid distribution -orch (c:\\users\\sunny\\anaconda3\\lib\\site-packages)\n",
      "WARNING: Ignoring invalid distribution -orch (c:\\users\\sunny\\anaconda3\\lib\\site-packages)\n"
     ]
    }
   ],
   "source": [
    "!pip3 install torchtext==0.10.0 "
   ]
  },
  {
   "cell_type": "code",
   "execution_count": 3,
   "id": "4027a9f9",
   "metadata": {},
   "outputs": [],
   "source": [
    "import torch\n",
    "from torchtext.legacy import data\n",
    "import torch.nn as nn\n",
    "from torchtext.legacy.data import Field, LabelField, TabularDataset, Dataset\n",
    "\n",
    "import torch.optim as optim\n",
    "\n",
    "import time\n",
    "import pandas as pd\n",
    "import re\n",
    "import spacy\n",
    "from nltk.stem import PorterStemmer\n",
    "\n",
    "from spacy.lang.en.stop_words import STOP_WORDS"
   ]
  },
  {
   "cell_type": "code",
   "execution_count": 4,
   "id": "c0925023",
   "metadata": {},
   "outputs": [
    {
     "data": {
      "text/plain": [
       "'C:\\\\Users\\\\Sunny\\\\Desktop\\\\Master\\\\Sem3\\\\5212\\\\A1\\\\Dataset_Assignment1'"
      ]
     },
     "execution_count": 4,
     "metadata": {},
     "output_type": "execute_result"
    }
   ],
   "source": [
    "import os\n",
    "os.getcwd()"
   ]
  },
  {
   "cell_type": "code",
   "execution_count": 4,
   "id": "2f199cf4",
   "metadata": {},
   "outputs": [
    {
     "data": {
      "text/plain": [
       "device(type='cpu')"
      ]
     },
     "execution_count": 4,
     "metadata": {},
     "output_type": "execute_result"
    }
   ],
   "source": [
    "BATCH_SIZE = 64\n",
    "device = torch.device('cuda' if torch.cuda.is_available() else 'cpu')\n",
    "device"
   ]
  },
  {
   "cell_type": "code",
   "execution_count": 8,
   "id": "79c1c0bf",
   "metadata": {},
   "outputs": [
    {
     "data": {
      "text/plain": [
       "False"
      ]
     },
     "execution_count": 8,
     "metadata": {},
     "output_type": "execute_result"
    }
   ],
   "source": [
    "torch.cuda.is_available()"
   ]
  }
 ],
 "metadata": {
  "kernelspec": {
   "display_name": "Python 3 (Spyder)",
   "language": "python3",
   "name": "python3"
  },
  "language_info": {
   "codemirror_mode": {
    "name": "ipython",
    "version": 3
   },
   "file_extension": ".py",
   "mimetype": "text/x-python",
   "name": "python",
   "nbconvert_exporter": "python",
   "pygments_lexer": "ipython3",
   "version": "3.9.7"
  }
 },
 "nbformat": 4,
 "nbformat_minor": 5
}
