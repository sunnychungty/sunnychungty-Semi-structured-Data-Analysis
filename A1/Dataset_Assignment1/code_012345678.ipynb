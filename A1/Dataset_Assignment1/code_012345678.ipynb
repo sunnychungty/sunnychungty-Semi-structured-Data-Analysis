{
 "cells": [
  {
   "cell_type": "markdown",
   "metadata": {
    "id": "0kV_tscbLsRq"
   },
   "source": [
    "# Assignment 1 for FIT5212, Semester 1\n",
    "\n",
    "**Student Name:**  Full name as per enrollment\n",
    "\n",
    "**Student ID:**    012345678"
   ]
  },
  {
   "cell_type": "markdown",
   "metadata": {
    "id": "OBeHKhlsLsRr"
   },
   "source": [
    "## Part 1:  Text Classification\n",
    "\n",
    "General comments and any shared processing here."
   ]
  },
  {
   "cell_type": "code",
   "execution_count": 1,
   "metadata": {
    "id": "t6G88fOlLsRs"
   },
   "outputs": [
    {
     "name": "stdout",
     "output_type": "stream",
     "text": [
      "<class 'pandas.core.frame.DataFrame'>\n",
      "RangeIndex: 125000 entries, 0 to 124999\n",
      "Data columns (total 5 columns):\n",
      " #   Column                    Non-Null Count   Dtype \n",
      "---  ------                    --------------   ----- \n",
      " 0   title                     125000 non-null  object\n",
      " 1   abstract                  125000 non-null  object\n",
      " 2   InformationTheory         125000 non-null  object\n",
      " 3   ComputationalLinguistics  125000 non-null  object\n",
      " 4   ComputerVision            125000 non-null  object\n",
      "dtypes: object(5)\n",
      "memory usage: 4.8+ MB\n"
     ]
    }
   ],
   "source": [
    "#  lots of Python code here\n",
    "import pandas as pd\n",
    "import numpy as np\n",
    "\n",
    "df_train = pd.read_csv(\"train.csv\", dtype = str)\n",
    "df_train.info()"
   ]
  },
  {
   "cell_type": "markdown",
   "metadata": {
    "id": "x6_LZOiILsRt"
   },
   "source": [
    "### Part 1A: Statistical Method\n",
    "\n",
    "Details of method"
   ]
  },
  {
   "cell_type": "code",
   "execution_count": null,
   "metadata": {
    "id": "UUYjnRN7LsRt"
   },
   "outputs": [],
   "source": [
    "#  lots of Python code here"
   ]
  },
  {
   "cell_type": "markdown",
   "metadata": {
    "id": "0OLEe794LsRu"
   },
   "source": [
    "### Part 1B: RNN Method\n",
    "\n",
    "Details of method"
   ]
  },
  {
   "cell_type": "code",
   "execution_count": null,
   "metadata": {
    "id": "-TB3WBnVLsRu"
   },
   "outputs": [],
   "source": [
    "#  lots of Python code here"
   ]
  },
  {
   "cell_type": "markdown",
   "metadata": {
    "id": "iPufLVnBLsRu"
   },
   "source": [
    "### Part 1C:  Results for Methods\n",
    "\n",
    "F1, precision, etc."
   ]
  },
  {
   "cell_type": "code",
   "execution_count": null,
   "metadata": {
    "id": "fPaR-1eVLsRu"
   },
   "outputs": [],
   "source": [
    "#  lots of Python code here"
   ]
  },
  {
   "cell_type": "markdown",
   "metadata": {
    "id": "jmoQeuQVLsRv"
   },
   "source": [
    "### Part 1D: Plots for Methods\n",
    "\n",
    "F1, precision, etc.\n"
   ]
  },
  {
   "cell_type": "code",
   "execution_count": null,
   "metadata": {
    "id": "9nBbWq42LsRv"
   },
   "outputs": [],
   "source": [
    "#  lots of Python code here"
   ]
  },
  {
   "cell_type": "markdown",
   "metadata": {
    "id": "CQv5VRk3LsRv"
   },
   "source": [
    "## Part 2: Topic Modelling\n",
    "\n",
    "General comments and any shared processing here.\n"
   ]
  },
  {
   "cell_type": "code",
   "execution_count": null,
   "metadata": {
    "id": "h3R17uuELsRw"
   },
   "outputs": [],
   "source": [
    "#  lots of Python code here"
   ]
  }
 ],
 "metadata": {
  "colab": {
   "provenance": []
  },
  "kernelspec": {
   "display_name": "Python 3 (Spyder)",
   "language": "python3",
   "name": "python3"
  },
  "language_info": {
   "codemirror_mode": {
    "name": "ipython",
    "version": 3
   },
   "file_extension": ".py",
   "mimetype": "text/x-python",
   "name": "python",
   "nbconvert_exporter": "python",
   "pygments_lexer": "ipython3",
   "version": "3.8.16"
  }
 },
 "nbformat": 4,
 "nbformat_minor": 4
}
